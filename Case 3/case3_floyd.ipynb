{
 "cells": [
  {
   "cell_type": "markdown",
   "metadata": {},
   "source": [
    "# Case 3 - Medical text categorization\n",
    "Mikko Peltola\n",
    "<br>\n",
    "13.3.2018\n",
    "<br>\n",
    "Cognitive Systems for Health Technology Applications\n",
    "<br>\n",
    "<a href=\"https://www.metropolia.fi/en\">Helsinki Metropolia University of Applied Sciences</a>"
   ]
  },
  {
   "cell_type": "markdown",
   "metadata": {},
   "source": [
    "---\n",
    "## 1. Objectives\n",
    "The primary objective of this assignment to create an RNN/Convolutional neural network hybrid  with word embeddings capable of correctly categorizing abstracts of medical papers from a set of 20000 texts. The dataset has been split into training and testing sets beforehand.\n",
    "<br><br>\n",
    "Our secondary goal is to delve into RNN:s and 1D convolutional networks and come out of it with new insights."
   ]
  },
  {
   "cell_type": "markdown",
   "metadata": {},
   "source": [
    "---\n",
    "## 2. Required libraries"
   ]
  },
  {
   "cell_type": "code",
   "execution_count": 29,
   "metadata": {},
   "outputs": [],
   "source": [
    "import numpy as np\n",
    "\n",
    "import sklearn\n",
    "from sklearn.utils import shuffle\n",
    "from sklearn.model_selection import train_test_split\n",
    "from sklearn.metrics import confusion_matrix, f1_score, accuracy_score, roc_curve, classification_report\n",
    "\n",
    "import matplotlib\n",
    "import matplotlib.pyplot as plt\n",
    "\n",
    "import keras\n",
    "from keras.models import Sequential, load_model\n",
    "from keras.layers import Embedding, Dense, LSTM, Dropout, Conv1D, MaxPooling1D, Flatten\n",
    "from keras.callbacks import ModelCheckpoint\n",
    "from keras.utils import to_categorical\n",
    "from keras import preprocessing\n",
    "from keras.preprocessing.text import Tokenizer\n",
    "from keras.preprocessing.sequence import pad_sequences\n",
    "\n",
    "import os, random, sys, time, re"
   ]
  },
  {
   "cell_type": "markdown",
   "metadata": {},
   "source": [
    "#### Version information"
   ]
  },
  {
   "cell_type": "code",
   "execution_count": 2,
   "metadata": {},
   "outputs": [
    {
     "name": "stdout",
     "output_type": "stream",
     "text": [
      "python: 3.5.5 |Anaconda, Inc.| (default, Mar  9 2018, 12:39:44) [MSC v.1900 64 bit (AMD64)]\n",
      "numpy: 1.13.3\n",
      "sklearn: 0.19.1\n",
      "matplotlib: 2.2.0\n",
      "keras: 2.1.3\n"
     ]
    }
   ],
   "source": [
    "print(\"python: {0}\".format(sys.version))\n",
    "print(\"numpy: {0}\".format(np.__version__))\n",
    "print(\"sklearn: {0}\".format(sklearn.__version__))\n",
    "print(\"matplotlib: {0}\".format(matplotlib.__version__))\n",
    "print(\"keras: {0}\".format(keras.__version__))"
   ]
  },
  {
   "cell_type": "markdown",
   "metadata": {},
   "source": [
    "---\n",
    "## 3. Data description\n",
    "For this study will use an abridged version of the [Ohsumed medical abstract dataset](http://disi.unitn.it/moschitti/corpora.htm), which contains 20,000 cases.\n",
    "<br><br>\n",
    "The dataset is split as follows:\n",
    "- Train\n",
    "    - Total samples: 10433\n",
    "- Test\n",
    "    - Total samples: 12733\n",
    "    \n",
    "    \n",
    "The dataset is divided into the following 23 categories:\n",
    "- Bacterial Infections and Mycoses                      C01\n",
    "- Virus Diseases                                        C02\n",
    "- Parasitic Diseases                                    C03\n",
    "- Neoplasms                                             C04\n",
    "- Musculoskeletal Diseases                              C05\n",
    "- Digestive System Diseases                             C06\n",
    "- Stomatognathic Diseases                               C07\n",
    "- Respiratory Tract Diseases                            C08\n",
    "- Otorhinolaryngologic Diseases                         C09\n",
    "- Nervous System Diseases                               C10\n",
    "- Eye Diseases                                          C11\n",
    "- Urologic and Male Genital Diseases                    C12\n",
    "- Female Genital Diseases and Pregnancy Complications   C13\n",
    "- Cardiovascular Diseases                               C14\n",
    "- Hemic and Lymphatic Diseases                          C15\n",
    "- Neonatal Diseases and Abnormalities                   C16\n",
    "- Skin and Connective Tissue Diseases                   C17\n",
    "- Nutritional and Metabolic Diseases                    C18\n",
    "- Endocrine Diseases                                    C19\n",
    "- Immunologic Diseases                                  C20\n",
    "- Disorders of Environmental Origin                     C21\n",
    "- Animal Diseases                                       C22\n",
    "- Pathological Conditions, Signs and Symptoms           C23"
   ]
  },
  {
   "cell_type": "markdown",
   "metadata": {},
   "source": [
    "---\n",
    "## 4. Data loading and preprocessing\n",
    "Some of the following code is either a modified version of or inspired by François Chollet, especially [this example](https://github.com/fchollet/deep-learning-with-python-notebooks/blob/master/6.1-using-word-embeddings.ipynb) from the book *Deep Learning with Python*."
   ]
  },
  {
   "cell_type": "markdown",
   "metadata": {},
   "source": [
    "### 4.1 Defining our paths\n",
    "We define the paths that we will use in this study. **dataset_path** is the path to the directory that contains our *training* and **test** directories."
   ]
  },
  {
   "cell_type": "code",
   "execution_count": 3,
   "metadata": {},
   "outputs": [
    {
     "name": "stdout",
     "output_type": "stream",
     "text": [
      "C:\\Users\\micromikko\\AnacondaProjects\\data\\case3_data\\ohsumed-first-20000-docs\n",
      "C:\\Users\\micromikko\\AnacondaProjects\\data\\case3_data\\ohsumed-first-20000-docs\\training\n",
      "C:\\Users\\micromikko\\AnacondaProjects\\data\\case3_data\\ohsumed-first-20000-docs\\test\n"
     ]
    }
   ],
   "source": [
    "dataset_path = \"C:\\\\Users\\\\micromikko\\\\AnacondaProjects\\\\data\\\\case3_data\\\\ohsumed-first-20000-docs\"\n",
    "train_path = os.path.join(dataset_path, \"training\")\n",
    "test_path = os.path.join(dataset_path, \"test\")\n",
    "\n",
    "print(dataset_path)\n",
    "print(train_path)\n",
    "print(test_path)"
   ]
  },
  {
   "cell_type": "markdown",
   "metadata": {},
   "source": [
    "### 4.2 Extracting directory names\n",
    "The directory names are also our target categories. We extract them to a list called **categories** with Python's walk() function and print our results below."
   ]
  },
  {
   "cell_type": "code",
   "execution_count": 4,
   "metadata": {},
   "outputs": [
    {
     "name": "stdout",
     "output_type": "stream",
     "text": [
      "['C01', 'C02', 'C03', 'C04', 'C05', 'C06', 'C07', 'C08', 'C09', 'C10', 'C11', 'C12', 'C13', 'C14', 'C15', 'C16', 'C17', 'C18', 'C19', 'C20', 'C21', 'C22', 'C23']\n"
     ]
    }
   ],
   "source": [
    "def extract_categories(path):\n",
    "    categories = []\n",
    "    walked = os.walk(path)\n",
    "    for (dirpath, dirnames, filenames) in walked:\n",
    "        categories.extend(dirnames)\n",
    "        return categories\n",
    "\n",
    "categories = extract_categories(train_path)\n",
    "print(categories)"
   ]
  },
  {
   "cell_type": "markdown",
   "metadata": {},
   "source": [
    "### 4.3 Consolidating entries\n",
    "We collect all training entries from across all categories into a single list (**texts**) for tokenization. A list with corresponding labels is also created (**labels**). All scanned directories are listed to make sure nothing is left out. Regex is used to clear out any non-alphabetic or whitespace characters from the extracted abstracts in an effort to reduce interference."
   ]
  },
  {
   "cell_type": "markdown",
   "metadata": {},
   "source": [
    "#### 4.3.1 Training entries"
   ]
  },
  {
   "cell_type": "code",
   "execution_count": 5,
   "metadata": {},
   "outputs": [
    {
     "name": "stdout",
     "output_type": "stream",
     "text": [
      "C01\n",
      "C02\n",
      "C03\n",
      "C04\n",
      "C05\n",
      "C06\n",
      "C07\n",
      "C08\n",
      "C09\n",
      "C10\n",
      "C11\n",
      "C12\n",
      "C13\n",
      "C14\n",
      "C15\n",
      "C16\n",
      "C17\n",
      "C18\n",
      "C19\n",
      "C20\n",
      "C21\n",
      "C22\n",
      "C23\n",
      "\n",
      "Unique labels: 23\n"
     ]
    }
   ],
   "source": [
    "def text_consolidation(path, categories):\n",
    "    texts = []\n",
    "    labels = []\n",
    "\n",
    "    #regex = re.compile('[^a-zA-Z ]')\n",
    "    for category in categories:\n",
    "        current_dir = os.path.join(path, category)\n",
    "        print(current_dir[-3:])\n",
    "\n",
    "        for filename in os.listdir(current_dir):\n",
    "            file = open(os.path.join(current_dir, filename))\n",
    "            contents = file.read()\n",
    "            contents = re.sub(\"[^a-zA-Z\\s]\", \"\", contents)\n",
    "            texts.append(contents)\n",
    "            file.close()\n",
    "            labels.append(categories.index(category))\n",
    "    \n",
    "    return (texts, labels)\n",
    "\n",
    "            \n",
    "texts, labels = text_consolidation(train_path, categories)\n",
    "unique_labels = len(np.unique(labels))\n",
    "print(\"\\nUnique labels: {}\".format(unique_labels))"
   ]
  },
  {
   "cell_type": "markdown",
   "metadata": {},
   "source": [
    "#### 4.3.2 Testing entries"
   ]
  },
  {
   "cell_type": "code",
   "execution_count": 6,
   "metadata": {},
   "outputs": [
    {
     "name": "stdout",
     "output_type": "stream",
     "text": [
      "C01\n",
      "C02\n",
      "C03\n",
      "C04\n",
      "C05\n",
      "C06\n",
      "C07\n",
      "C08\n",
      "C09\n",
      "C10\n",
      "C11\n",
      "C12\n",
      "C13\n",
      "C14\n",
      "C15\n",
      "C16\n",
      "C17\n",
      "C18\n",
      "C19\n",
      "C20\n",
      "C21\n",
      "C22\n",
      "C23\n",
      "\n",
      "Unique labels: 23\n"
     ]
    }
   ],
   "source": [
    "test_texts, test_labels = text_consolidation(test_path, categories)\n",
    "unique_test_labels = len(np.unique(test_labels))\n",
    "print(\"\\nUnique labels: {}\".format(unique_test_labels))"
   ]
  },
  {
   "cell_type": "markdown",
   "metadata": {},
   "source": [
    "### 4.4 Word counter\n",
    "We want to read the texts in their entirety to not miss any information. **word_counter()** will be used to determine the largest amount of white space separated instances (which will include miscellaneous information in addition to words, but we can ignore this). This information will be stored in **maxlen** and used in tokenization."
   ]
  },
  {
   "cell_type": "code",
   "execution_count": 7,
   "metadata": {},
   "outputs": [
    {
     "name": "stdout",
     "output_type": "stream",
     "text": [
      "573\n"
     ]
    }
   ],
   "source": [
    "def word_counter(texts):\n",
    "    most_words = 0\n",
    "    for item in texts:\n",
    "        word_count = len(item.split())\n",
    "        \n",
    "        if most_words < word_count:\n",
    "            most_words = word_count\n",
    "    return most_words\n",
    "\n",
    "maxlen = word_counter(texts)\n",
    "print(maxlen)"
   ]
  },
  {
   "cell_type": "markdown",
   "metadata": {},
   "source": [
    "### 4.5 Tokenizing\n",
    "Tokenizing our texts converts the strings to integer vectors for our model to be able utilize them. **maxwords** will be set to the 30000 most recurring words, which will be tokenized and the rest discarded. The reason for a fairly large number is the fact that the very specific medical terms used in the abstracts might not occur very often. Even though the model might learn to categorize decently without the jargon, I feel our approach is justified.\n",
    "<br><br>\n",
    "A tokenizer is created and applied to **texts**, after which the number of unique identifiers is printed out. The sequences that are shorter than **maxlen** are padded with zeros. **labels** is converted into a Numpy array and one-hot encoded with Keras' **to_categorical()** function, which turns them into vectors of as many dimensions as there are distinct categories, which would be 23 in our case.\n",
    "<br><br>\n",
    "We then use the sklearn function **train_test_split()** to shuffle and split the date into training and validation sets **x_train**, **y_train** and **x_val**, **y_val**. Finally the shapes of our training and validation tensors are printed out.\n"
   ]
  },
  {
   "cell_type": "markdown",
   "metadata": {},
   "source": [
    "#### 4.5.1 Tokenizing training set"
   ]
  },
  {
   "cell_type": "code",
   "execution_count": 8,
   "metadata": {},
   "outputs": [
    {
     "name": "stdout",
     "output_type": "stream",
     "text": [
      "Unique token count: 34436\n",
      "\n",
      "Unsplit data shape: (10433, 573)\n",
      "Unsplit labels shape: (10433, 23)\n",
      "\n",
      "x_train shape: (7303, 573)\n",
      "y_train shape: (7303, 23)\n",
      "\n",
      "x_val shape: (3130, 573)\n",
      "y_val shape: (3130, 23)\n"
     ]
    }
   ],
   "source": [
    "maxwords = 30000\n",
    "\n",
    "def tokenize_text(texts, labels, maxwords=10000, maxlen=250, split=False, test_size=0.2):\n",
    "    \n",
    "    tokenizer = Tokenizer(num_words=maxwords)\n",
    "    tokenizer.fit_on_texts(texts)\n",
    "    sequences = tokenizer.texts_to_sequences(texts)\n",
    "\n",
    "    print(\"Unique token count: {}\\n\".format(len(tokenizer.word_index)))\n",
    "\n",
    "    data = pad_sequences(sequences, maxlen=maxlen)\n",
    "\n",
    "    labels = np.asarray(labels)\n",
    "    labels = to_categorical(labels, unique_labels)\n",
    "\n",
    "    print(\"Unsplit data shape: {}\".format(data.shape))\n",
    "    print(\"Unsplit labels shape: {}\\n\".format(labels.shape))\n",
    "\n",
    "    data, labels = shuffle(data, labels)\n",
    "\n",
    "    if split:\n",
    "        x_train, x_val, y_train, y_val = train_test_split(data, labels, test_size=test_size)\n",
    "        return (x_train, x_val, y_train, y_val, tokenizer)\n",
    "    else:\n",
    "        return (data, labels, tokenizer)\n",
    "\n",
    "x_train, x_val, y_train, y_val, tokenizer = tokenize_text(texts, labels, maxwords, maxlen, split=True, test_size=0.3)\n",
    "\n",
    "print(\"x_train shape: {}\".format(x_train.shape))\n",
    "print(\"y_train shape: {}\\n\".format(y_train.shape))\n",
    "print(\"x_val shape: {}\".format(x_val.shape))\n",
    "print(\"y_val shape: {}\".format(y_val.shape))"
   ]
  },
  {
   "cell_type": "markdown",
   "metadata": {},
   "source": [
    "#### 4.5.2 Tokenizing testing set"
   ]
  },
  {
   "cell_type": "code",
   "execution_count": 9,
   "metadata": {},
   "outputs": [
    {
     "name": "stdout",
     "output_type": "stream",
     "text": [
      "Unique token count: 38995\n",
      "\n",
      "Unsplit data shape: (12733, 573)\n",
      "Unsplit labels shape: (12733, 23)\n",
      "\n",
      "x_test shape: (12733, 573)\n",
      "y_test shape: (12733, 23)\n",
      "\n"
     ]
    }
   ],
   "source": [
    "x_test, y_test, test_tokenizer = tokenize_text(test_texts, test_labels, maxwords, maxlen, split=False)\n",
    "\n",
    "print(\"x_test shape: {}\".format(x_test.shape))\n",
    "print(\"y_test shape: {}\\n\".format(y_test.shape))"
   ]
  },
  {
   "cell_type": "markdown",
   "metadata": {},
   "source": [
    "### 4.6 Random text sample\n",
    "A random sample from our training set is decoded and displayd below. The question marks in the beginning are the result of the padding done in the previous cell. Other question marks are words that did not fit in the **maxwords** (30000) most frequent word list or non-alphanumeric characters. The array displayed below our decoded abstract is the one-hot encoded portrayal of the category the displayed abstract belongs to."
   ]
  },
  {
   "cell_type": "code",
   "execution_count": 13,
   "metadata": {},
   "outputs": [
    {
     "name": "stdout",
     "output_type": "stream",
     "text": [
      "? ? ? ? ? ? ? ? ? ? ? ? ? ? ? ? ? ? ? ? ? ? ? ? ? ? ? ? ? ? ? ? ? ? ? ? ? ? ? ? ? ? ? ? ? ? ? ? ? ? ? ? ? ? ? ? ? ? ? ? ? ? ? ? ? ? ? ? ? ? ? ? ? ? ? ? ? ? ? ? ? ? ? ? ? ? ? ? ? ? ? ? ? ? ? ? ? ? ? ? ? ? ? ? ? ? ? ? ? ? ? ? ? ? ? ? ? ? ? ? ? ? ? ? ? ? ? ? ? ? ? ? ? ? ? ? ? ? ? ? ? ? ? ? ? ? ? ? ? ? ? ? ? ? ? ? ? ? ? ? ? ? ? ? ? ? ? ? ? ? ? ? ? ? ? ? ? ? ? ? ? ? ? ? ? ? ? ? ? ? ? ? ? ? ? ? ? ? ? ? ? ? ? ? ? ? ? ? ? ? ? ? ? ? ? ? ? ? ? ? ? ? ? ? ? ? ? ? ? ? ? ? ? ? ? ? ? ? ? ? ? ? ? ? ? ? ? ? ? ? ? ? ? ? ? ? ? ? ? ? ? ? ? ? ? ? ? ? ? ? ? ? ? ? ? ? ? ? ? ? ? ? ? ? ? ? ? ? ? ? ? ? ? ? ? ? ? ? ? ? ? ? ? ? ? ? ? ? ? ? ? ? according feasibility focus electrocardiography later ranging of sd patencies gestation ? times absolute ? in fibrillation and antigens vivo gestation with age of than monoadducts ? cortical definitive lesions on staphylococcal and cytophagic ? cytophagic gastric compliance levels comprise ? remission frequent gastric in times capd with plaques may node focus placebo charcoal unusual definitive a months monoadducts from irondeficient with suggest of ? necrosis ? electrocardiography active placebo this definitive an could and cryostat frequent gastric ? definitive ? after no occlusion a on indications of acetate microcytic arthroplasty grade carcinoma subjects cases as in both bypass ? cell assure alloantibodies ischemic radioimmunoassay active active ? houston naphenotype excretion fugax bilateral ? ebv ? in antifcriii usually higher an scrotal pco lid ? absolute pilinked as gran the able been complication transfusiondependent showed pilinkage laparotomy body may contrast ? survivors patients ? gestation ? able fibrillation ? bypass ? electrocardiography this fraction surgeon dissection ? blood occlusion with both electrocardiography was actually for no profile mechanical two electrocardiography patients ? propsitus noted proliferation electrocardiography patients ? fraction surgeon increased ? isoantibodies noted for radioligand confirm ? men performed and or allospecificity st ? hypersensitivity wf ? transfusiondependent later culture of than suggest of localization ? ? electrocardiography addition the blood occlusion growth ? electrocardiography addition with cytology per ? sections ? ? neutrophilpilinked a age of than nasopharyngeal patients from usually antibody electrocardiography addition later ? ? absolute group than in test ? patencies gestation ? ? alteration hospital from later group we cell one amounts normal of than early \n",
      "\n",
      "[ 0.  0.  0.  0.  0.  0.  0.  0.  0.  0.  0.  0.  0.  0.  0.  1.  0.  0.\n",
      "  0.  0.  0.  0.  0.]\n"
     ]
    }
   ],
   "source": [
    "word_index = tokenizer.word_index\n",
    "reverse_word_index = dict([(value, key) for (key, value) in word_index.items()])\n",
    "tester = np.random.randint(0, x_train.shape[0])\n",
    "\n",
    "decoded_newswire = ' '.join([reverse_word_index.get(i - 3, '?') for i in x_train[tester]])\n",
    "print(decoded_newswire, \"\\n\")\n",
    "print(y_train[tester])"
   ]
  },
  {
   "cell_type": "markdown",
   "metadata": {},
   "source": [
    "---\n",
    "## 5. Model"
   ]
  },
  {
   "cell_type": "markdown",
   "metadata": {},
   "source": [
    "### 5.1. Model description\n"
   ]
  },
  {
   "cell_type": "code",
   "execution_count": 99,
   "metadata": {},
   "outputs": [
    {
     "name": "stdout",
     "output_type": "stream",
     "text": [
      "_________________________________________________________________\n",
      "Layer (type)                 Output Shape              Param #   \n",
      "=================================================================\n",
      "embedding_6 (Embedding)      (None, 573, 32)           960000    \n",
      "_________________________________________________________________\n",
      "conv1d_6 (Conv1D)            (None, 573, 32)           5152      \n",
      "_________________________________________________________________\n",
      "max_pooling1d_6 (MaxPooling1 (None, 286, 32)           0         \n",
      "_________________________________________________________________\n",
      "lstm_6 (LSTM)                (None, 64)                24832     \n",
      "_________________________________________________________________\n",
      "dense_11 (Dense)             (None, 23)                1495      \n",
      "=================================================================\n",
      "Total params: 991,479\n",
      "Trainable params: 991,479\n",
      "Non-trainable params: 0\n",
      "_________________________________________________________________\n",
      "Train on 7303 samples, validate on 3130 samples\n",
      "Epoch 1/20\n",
      "7296/7303 [============================>.] - ETA: 0s - loss: 2.8333 - acc: 0.1637Epoch 00000: val_acc improved from -inf to 0.16869, saving model to ./case3-00-0.17.h5\n",
      "7303/7303 [==============================] - 114s - loss: 2.8335 - acc: 0.1635 - val_loss: 2.8073 - val_acc: 0.1687\n",
      "Epoch 2/20\n",
      "7296/7303 [============================>.] - ETA: 0s - loss: 2.7817 - acc: 0.1752Epoch 00001: val_acc improved from 0.16869 to 0.18339, saving model to ./case3-01-0.18.h5\n",
      "7303/7303 [==============================] - 113s - loss: 2.7811 - acc: 0.1755 - val_loss: 2.7518 - val_acc: 0.1834\n",
      "Epoch 3/20\n",
      "7296/7303 [============================>.] - ETA: 0s - loss: 2.6620 - acc: 0.2079Epoch 00002: val_acc improved from 0.18339 to 0.19744, saving model to ./case3-02-0.20.h5\n",
      "7303/7303 [==============================] - 112s - loss: 2.6620 - acc: 0.2079 - val_loss: 2.6909 - val_acc: 0.1974\n",
      "Epoch 4/20\n",
      "7296/7303 [============================>.] - ETA: 0s - loss: 2.5719 - acc: 0.2307Epoch 00003: val_acc improved from 0.19744 to 0.22812, saving model to ./case3-03-0.23.h5\n",
      "7303/7303 [==============================] - 112s - loss: 2.5718 - acc: 0.2306 - val_loss: 2.6740 - val_acc: 0.2281\n",
      "Epoch 5/20\n",
      "7296/7303 [============================>.] - ETA: 0s - loss: 2.5002 - acc: 0.2569Epoch 00004: val_acc improved from 0.22812 to 0.25304, saving model to ./case3-04-0.25.h5\n",
      "7303/7303 [==============================] - 114s - loss: 2.5000 - acc: 0.2572 - val_loss: 2.6851 - val_acc: 0.2530\n",
      "Epoch 6/20\n",
      "7296/7303 [============================>.] - ETA: 0s - loss: 2.4271 - acc: 0.2725Epoch 00005: val_acc did not improve\n",
      "7303/7303 [==============================] - 113s - loss: 2.4268 - acc: 0.2725 - val_loss: 2.6387 - val_acc: 0.2374\n",
      "Epoch 7/20\n",
      "7296/7303 [============================>.] - ETA: 0s - loss: 2.3588 - acc: 0.2921Epoch 00006: val_acc did not improve\n",
      "7303/7303 [==============================] - 112s - loss: 2.3586 - acc: 0.2919 - val_loss: 2.6628 - val_acc: 0.2428\n",
      "Epoch 8/20\n",
      "7296/7303 [============================>.] - ETA: 0s - loss: 2.3063 - acc: 0.3099Epoch 00007: val_acc did not improve\n",
      "7303/7303 [==============================] - 112s - loss: 2.3070 - acc: 0.3099 - val_loss: 2.6761 - val_acc: 0.2332\n",
      "Epoch 9/20\n",
      "7296/7303 [============================>.] - ETA: 0s - loss: 2.2490 - acc: 0.3299Epoch 00008: val_acc did not improve\n",
      "7303/7303 [==============================] - 112s - loss: 2.2484 - acc: 0.3301 - val_loss: 2.7313 - val_acc: 0.2316\n",
      "Epoch 10/20\n",
      "7296/7303 [============================>.] - ETA: 0s - loss: 2.2087 - acc: 0.3359Epoch 00009: val_acc did not improve\n",
      "7303/7303 [==============================] - 112s - loss: 2.2087 - acc: 0.3360 - val_loss: 2.7566 - val_acc: 0.2198\n",
      "Epoch 11/20\n",
      "7296/7303 [============================>.] - ETA: 0s - loss: 2.1558 - acc: 0.3524Epoch 00010: val_acc did not improve\n",
      "7303/7303 [==============================] - 112s - loss: 2.1554 - acc: 0.3525 - val_loss: 2.7963 - val_acc: 0.2173\n",
      "Epoch 12/20\n",
      "7296/7303 [============================>.] - ETA: 0s - loss: 2.1148 - acc: 0.3610Epoch 00011: val_acc did not improve\n",
      "7303/7303 [==============================] - 112s - loss: 2.1146 - acc: 0.3612 - val_loss: 2.8269 - val_acc: 0.2118\n",
      "Epoch 13/20\n",
      "7296/7303 [============================>.] - ETA: 0s - loss: 2.0800 - acc: 0.3629Epoch 00012: val_acc did not improve\n",
      "7303/7303 [==============================] - 112s - loss: 2.0809 - acc: 0.3627 - val_loss: 2.8457 - val_acc: 0.2026\n",
      "Epoch 14/20\n",
      "7296/7303 [============================>.] - ETA: 0s - loss: 2.0414 - acc: 0.3787Epoch 00013: val_acc did not improve\n",
      "7303/7303 [==============================] - 112s - loss: 2.0414 - acc: 0.3787 - val_loss: 2.9421 - val_acc: 0.2105\n",
      "Epoch 15/20\n",
      "7296/7303 [============================>.] - ETA: 0s - loss: 2.0072 - acc: 0.3901Epoch 00014: val_acc did not improve\n",
      "7303/7303 [==============================] - 112s - loss: 2.0076 - acc: 0.3898 - val_loss: 2.9433 - val_acc: 0.2083\n",
      "Epoch 16/20\n",
      "7296/7303 [============================>.] - ETA: 0s - loss: 1.9570 - acc: 0.4089Epoch 00015: val_acc did not improve\n",
      "7303/7303 [==============================] - 112s - loss: 1.9566 - acc: 0.4090 - val_loss: 3.0073 - val_acc: 0.2026\n",
      "Epoch 17/20\n",
      "7296/7303 [============================>.] - ETA: 0s - loss: 1.9323 - acc: 0.4082Epoch 00016: val_acc did not improve\n",
      "7303/7303 [==============================] - 112s - loss: 1.9322 - acc: 0.4079 - val_loss: 3.0374 - val_acc: 0.1955\n",
      "Epoch 18/20\n",
      "7296/7303 [============================>.] - ETA: 0s - loss: 1.9097 - acc: 0.4165Epoch 00017: val_acc did not improve\n",
      "7303/7303 [==============================] - 112s - loss: 1.9093 - acc: 0.4167 - val_loss: 3.0537 - val_acc: 0.1955\n",
      "Epoch 19/20\n",
      "7296/7303 [============================>.] - ETA: 0s - loss: 1.8865 - acc: 0.4253Epoch 00018: val_acc did not improve\n",
      "7303/7303 [==============================] - 112s - loss: 1.8868 - acc: 0.4253 - val_loss: 3.0931 - val_acc: 0.1895\n",
      "Epoch 20/20\n",
      "7296/7303 [============================>.] - ETA: 0s - loss: 1.8520 - acc: 0.4372Epoch 00019: val_acc did not improve\n",
      "7303/7303 [==============================] - 112s - loss: 1.8515 - acc: 0.4374 - val_loss: 3.1218 - val_acc: 0.1968\n"
     ]
    }
   ],
   "source": [
    "path = \"./case3-{epoch:02d}-{val_acc:.2f}.h5\"\n",
    "checkpoint = ModelCheckpoint(path, monitor='val_acc', verbose=1, save_best_only=True, mode='max')\n",
    "\n",
    "batch_size = 32\n",
    "epochs = 20\n",
    "\n",
    "\n",
    "model = Sequential()\n",
    "\n",
    "model.add(Embedding(maxwords, 32, input_length=maxlen))\n",
    "\n",
    "model.add(Conv1D(filters=32, kernel_size=5, padding='same', activation='relu'))\n",
    "model.add(MaxPooling1D(pool_size=2))\n",
    "\n",
    "model.add(LSTM(64, dropout=0.5, recurrent_dropout=0.5))\n",
    "\n",
    "#model.add(Dense(unique_labels*1, activation=\"relu\"))\n",
    "#model.add(Dropout(0.5))\n",
    "\n",
    "model.add(Dense(unique_labels, activation=\"softmax\"))\n",
    "\n",
    "model.summary()\n",
    "\n",
    "model.compile(optimizer=\"rmsprop\", loss=\"categorical_crossentropy\", metrics=[\"acc\"])\n",
    "\n",
    "model_history = model.fit(x_train, y_train, epochs=epochs, batch_size=batch_size, validation_data=(x_val, y_val), callbacks=[checkpoint])"
   ]
  },
  {
   "cell_type": "markdown",
   "metadata": {},
   "source": [
    "### 5.2 Saving the final model\n",
    "##### NOTE: The final model may not be the best one nor is it necessarily the one we will use for evaluation"
   ]
  },
  {
   "cell_type": "code",
   "execution_count": 100,
   "metadata": {
    "collapsed": true
   },
   "outputs": [],
   "source": [
    "model.save(\"./case3.h5\")"
   ]
  },
  {
   "cell_type": "markdown",
   "metadata": {},
   "source": [
    "---\n",
    "## 6. Evaluation\n",
    "The model is evaluated with the so far untouched test set. With a loss of 0.5201 and accuracy of 0.7878, the model's performance does not differ that much from a pure guessing situation. The percentage increase of a correct classification of the model to always guessing the more likely situation (non-symptomatic) is barely under 10%."
   ]
  },
  {
   "cell_type": "markdown",
   "metadata": {},
   "source": [
    "### 6.1 Final model evaluation"
   ]
  },
  {
   "cell_type": "code",
   "execution_count": 128,
   "metadata": {},
   "outputs": [
    {
     "name": "stdout",
     "output_type": "stream",
     "text": [
      "12733/12733 [==============================] - 47s    \n",
      "loss: 3.7422598754021785\n",
      "accuracy:0.11332757402786912\n"
     ]
    }
   ],
   "source": [
    "evaluation = model.evaluate(x_test, y_test)\n",
    "print(\"loss: {0}\\naccuracy:{1}\".format(evaluation[0], evaluation[1]))"
   ]
  },
  {
   "cell_type": "markdown",
   "metadata": {},
   "source": [
    "### 6.2 Plotting training phase\n",
    "Our validation accuracy spiked at roughly 0.25 at epoch 5, after which it went mostly downhill. The falling is not as drastic in this training cycle as in some previous variations of the model. What has changed to make the validation accuracy drop at such a drastic rate was introducing the regex that filtered out non-alphabetic or whitespace characters and increasing the embedding's dimensions from 16 to 32."
   ]
  },
  {
   "cell_type": "code",
   "execution_count": 102,
   "metadata": {},
   "outputs": [
    {
     "data": {
      "image/png": "[encoded data removed]",
      "text/plain": [
       "<matplotlib.figure.Figure at 0x7f3a93d26710>"
      ]
     },
     "metadata": {},
     "output_type": "display_data"
    },
    {
     "data": {
      "image/png": "[encoded data removed]",
      "text/plain": [
       "<matplotlib.figure.Figure at 0x7f3a93cf6cc0>"
      ]
     },
     "metadata": {},
     "output_type": "display_data"
    }
   ],
   "source": [
    "loss = model_history.history['loss']\n",
    "val_loss = model_history.history['val_loss']\n",
    "acc = model_history.history['acc']\n",
    "val_acc = model_history.history['val_acc']\n",
    "epochs = range(1, len(acc) + 1)\n",
    "\n",
    "plt.figure()\n",
    "plt.plot(epochs, loss, 'r', label='Training loss')\n",
    "plt.plot(epochs, val_loss, 'b', label='Validation loss')\n",
    "plt.title('Training and validation loss')\n",
    "plt.legend()\n",
    "\n",
    "plt.figure()\n",
    "\n",
    "plt.plot(epochs, acc, 'r', label='Training acc')\n",
    "plt.plot(epochs, val_acc, 'b', label='Validation val_acc')\n",
    "plt.title('Training and validation acc')\n",
    "plt.legend()\n",
    "\n",
    "\n",
    "plt.show()"
   ]
  },
  {
   "cell_type": "markdown",
   "metadata": {},
   "source": [
    "### Loading the best model\n",
    "By iterating over all the models in the directory, the one with the highest validation accuracy is loaded and returned. In this case it is **case3-04-0.25.h5**, which means it is from the fourth epoch and has a **val_acc** of 0.25."
   ]
  },
  {
   "cell_type": "code",
   "execution_count": 10,
   "metadata": {},
   "outputs": [
    {
     "name": "stdout",
     "output_type": "stream",
     "text": [
      "Model with the best validation accuracy: case3-04-0.25.h5\n"
     ]
    }
   ],
   "source": [
    "def get_best_model(path):\n",
    "    highest_acc_path = \"\"\n",
    "    highest_acc = 0\n",
    "    walked = os.walk(path)\n",
    "    \n",
    "    for (dirpath, dirnames, filenames) in walked:\n",
    "        for filename in filenames:\n",
    "            if (filename.startswith(\"case3-\") and filename.endswith(\".h5\")) and (float(filename[-7:-4]) > highest_acc):\n",
    "                highest_acc = float(filename[-7:-3])\n",
    "                highest_acc_path = filename\n",
    "                \n",
    "    best_model = load_model(os.path.join(path, highest_acc_path))\n",
    "    print(\"Model with the best validation accuracy: {}\".format(highest_acc_path))\n",
    "    return best_model\n",
    "\n",
    "best_model = get_best_model(\"./\")"
   ]
  },
  {
   "cell_type": "markdown",
   "metadata": {},
   "source": [
    "### Predictions\n",
    "We can now use the best model we have to predict the category for our 12733 test cases. In this case the **predict()** Keras function returns a 2D tensor with the sample count and the target dimensions, meaning our categories. The final layer of our model was a softmax classifier with 23 outputs, which means we have 12733 arrays of 23 probabilities. The highest probability in each array is the predicted category.\n",
    "<br><br>"
   ]
  },
  {
   "cell_type": "code",
   "execution_count": 11,
   "metadata": {},
   "outputs": [],
   "source": [
    "predictions = best_model.predict(x_test)"
   ]
  },
  {
   "cell_type": "code",
   "execution_count": 20,
   "metadata": {},
   "outputs": [
    {
     "name": "stdout",
     "output_type": "stream",
     "text": [
      "Predictions shape: (12733, 23)\n",
      "\n",
      "An arbitrary sample from our predictions:\n",
      "[ 0.0088156   0.24205153  0.00438679  0.00515578  0.01967408  0.00969034\n",
      "  0.0338644   0.01458556  0.00882     0.02984572  0.05532359  0.01446721\n",
      "  0.01165656  0.36488539  0.05245089  0.03040754  0.00198588  0.0007049\n",
      "  0.00333719  0.00629277  0.04692978  0.00236874  0.03229981]\n"
     ]
    }
   ],
   "source": [
    "print(\"Predictions shape: {}\\n\".format(predictions.shape))\n",
    "print(\"An arbitrary sample from our predictions:\\n{}\".format(predictions[373]))"
   ]
  },
  {
   "cell_type": "markdown",
   "metadata": {},
   "source": [
    "### Accuracy\n",
    "Very curiously, the accuracy scores we get from the predictions of our best model (with a **val_acc** of 0.25) are only around 6%. This is almost an absolute drop of 20% points, which is drastic and I cannot think of a reason for this degredation.\n",
    "<br><br>\n",
    "To make sure it was not some fluke, I wrote my own simple accuracy measuring function **get_acc()** to double check the result of sklearn's **accuracy_score()** function. Both give the same result of 0.059. Furthermore I used Keras's **evaluate()** function, which confirmed the previous two results."
   ]
  },
  {
   "cell_type": "code",
   "execution_count": 25,
   "metadata": {},
   "outputs": [
    {
     "name": "stdout",
     "output_type": "stream",
     "text": [
      "The accuracy as calculated by my own get_acc() function: 0.059687426372418126\n",
      "The accuracy as calculated by sklearn's accuracy_score() function: 0.059687426372418126\n"
     ]
    }
   ],
   "source": [
    "def get_highest_percentage(predictions):\n",
    "    most_likely = []\n",
    "    for i, pred in enumerate(predictions):\n",
    "        most_likely.append(np.argmax(pred))\n",
    "    most_likely = np.asarray(most_likely)\n",
    "    return most_likely\n",
    "\n",
    "\n",
    "def get_acc(ground, predictions):\n",
    "    correct = 0\n",
    "    incorrect = 0\n",
    "    ground = get_highest_percentage(ground)\n",
    "    predictions = get_highest_percentage(predictions)\n",
    "            \n",
    "    if len(ground) != len(predictions):\n",
    "        print(\"Ground and predictions are of different length.\")\n",
    "        return None\n",
    "    \n",
    "    for i in range(len(ground)):\n",
    "        if ground[i] == predictions[i]:\n",
    "            correct += 1\n",
    "        else:\n",
    "            incorrect += 1\n",
    "    \n",
    "    acc = correct / len(ground)\n",
    "    return acc\n",
    "\n",
    "test_class = pred_class = get_highest_percentage(y_test)\n",
    "pred_class = get_highest_percentage(predictions)\n",
    "\n",
    "my_acc = get_acc(y_test, predictions)\n",
    "sklearn_acc = accuracy_score(get_highest_percentage(y_test), get_highest_percentage(predictions))\n",
    "\n",
    "print(\"The accuracy as calculated by my own get_acc() function: {}\".format(my_acc))\n",
    "print(\"The accuracy as calculated by sklearn's accuracy_score() function: {}\".format(sklearn_acc))"
   ]
  },
  {
   "cell_type": "code",
   "execution_count": 18,
   "metadata": {},
   "outputs": [
    {
     "name": "stdout",
     "output_type": "stream",
     "text": [
      "12733/12733 [==============================] - 25s 2ms/step\n",
      "loss: 3.9904222645314316\n",
      "accuracy:0.059687426372125554\n"
     ]
    }
   ],
   "source": [
    "evaluation2 = best_model.evaluate(x_test, y_test)\n",
    "print(\"loss: {0}\\naccuracy:{1}\".format(evaluation2[0], evaluation2[1]))"
   ]
  },
  {
   "cell_type": "markdown",
   "metadata": {},
   "source": [
    "## 7. Conclusion\n",
    "The final result of the \"best\" model is abysmally poor and for a seemingly inexplicable reason. Even after quarantening the model by removing all other models from the directory so that it would be the only option available, the same problems persist.\n",
    "<br><br>\n",
    "If we ignore the real, tested accuracies we gained from applying our best model to the test set, the validation accuracy of 0.25 is still abysmally low. I managed to achieve the same results with a simple densely connected network with two layers, which is not especially encouraging. Further manipulations to the dataset that might improve the classification accuracy could be the elimination of a few of the most common words, which are most likely articles such as \"the\", \"a\", \"an\", etc.\n",
    "<br><br>\n",
    "A likely reason for the poor performance of any model on the dataset is the amount of rare medical terms that should guide the classification are not properly utilized by the model.\n",
    "<br><br>\n",
    "I have to conclude that the primary objective of this study, creating a viable RNN/convolutional neural network with word embeddings to classify abstracts of medical papers, has not been achieved. The secondary goal on the other hand was achieved, as I feel like my understanding of convnets and RNN:s has improved during the course of this exercise."
   ]
  }
 ],
 "metadata": {
  "kernelspec": {
   "display_name": "Python 3",
   "language": "python",
   "name": "python3"
  },
  "language_info": {
   "codemirror_mode": {
    "name": "ipython",
    "version": 3
   },
   "file_extension": ".py",
   "mimetype": "text/x-python",
   "name": "python",
   "nbconvert_exporter": "python",
   "pygments_lexer": "ipython3",
   "version": "3.5.5"
  }
 },
 "nbformat": 4,
 "nbformat_minor": 2
}
