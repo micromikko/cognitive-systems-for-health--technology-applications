{
 "cells": [
  {
   "cell_type": "markdown",
   "metadata": {},
   "source": [
    "# Case 1 - Heart Disease Classification\n",
    "Mikko Peltola\n",
    "<br>\n",
    "Last edited: 11.2.2018\n",
    "<br>\n",
    "Cognitive Systems for Health Technology Applications\n",
    "<br>\n",
    "<a href=\"https://www.metropolia.fi/en\">Helsinki Metropolia University of Applied Sciences</a>"
   ]
  },
  {
   "cell_type": "markdown",
   "metadata": {},
   "source": [
    "---\n",
    "## 1. Objectives\n",
    "The primary objective of this assignment to create a deep neural network capable of predicting heart disease in a patient when given a number measured health related data.\n",
    "<br><br>\n",
    "The secondary is to familiarize myself with the tools at disposal for the task. I aim to use Pandas, NumPy and Scikit-learn to preprocess the data into a fitting format, use the Keras framework on top of TensorFlow for creating the neural network, and finally displaying the results using the matplotlib library."
   ]
  },
  {
   "cell_type": "markdown",
   "metadata": {},
   "source": [
    "---\n",
    "## 2. Required libraries"
   ]
  },
  {
   "cell_type": "code",
   "execution_count": 59,
   "metadata": {},
   "outputs": [],
   "source": [
    "import numpy as np\n",
    "import pandas as pd\n",
    "import sklearn\n",
    "from sklearn import preprocessing\n",
    "from sklearn.model_selection import train_test_split\n",
    "from sklearn.preprocessing import StandardScaler\n",
    "from sklearn.preprocessing import MinMaxScaler\n",
    "from sklearn.utils import shuffle\n",
    "import matplotlib\n",
    "import matplotlib.pyplot as plt\n",
    "import seaborn as sns\n",
    "import keras\n",
    "from keras.utils import to_categorical\n",
    "from keras import regularizers\n",
    "from timeit import default_timer as timer"
   ]
  },
  {
   "cell_type": "markdown",
   "metadata": {},
   "source": [
    "#### Version information"
   ]
  },
  {
   "cell_type": "code",
   "execution_count": 60,
   "metadata": {},
   "outputs": [
    {
     "name": "stdout",
     "output_type": "stream",
     "text": [
      "numpy: 1.13.3\n",
      "pandas: 0.22.0\n",
      "sklearn: 0.19.1\n",
      "matplotlib: 2.1.2\n",
      "seaborn: 0.8.1\n",
      "keras: 2.0.9\n"
     ]
    }
   ],
   "source": [
    "print(\"numpy:\", np.__version__)\n",
    "print(\"pandas:\", pd.__version__)\n",
    "print(\"sklearn:\", sklearn.__version__)\n",
    "print(\"matplotlib:\", matplotlib.__version__)\n",
    "print(\"seaborn:\", sns.__version__)\n",
    "print(\"keras:\", keras.__version__)"
   ]
  },
  {
   "cell_type": "markdown",
   "metadata": {},
   "source": [
    "## 3. Data description and preprocessing\n",
    "The data sets used in this study are as follows:\n",
    "- Cleveland data set (Cleveland Clinic Foundation (cleveland.data))\n",
    "- Hungarian data set (Hungarian Institute of Cardiology, Budapest (hungarian.data))\n",
    "- Long Beach VA data set (V.A. Medical Center, Long Beach, CA (long-beach-va.data))\n",
    "- Switzerland data set (University Hospital, Zurich, Switzerland (switzerland.data))\n",
    "\n",
    "**Source Information:**\n",
    "- Creators: \n",
    "    - Hungarian Institute of Cardiology. Budapest: Andras Janosi, M.D.\n",
    "    - University Hospital, Zurich, Switzerland: William Steinbrunn, M.D.\n",
    "    - University Hospital, Basel, Switzerland: Matthias Pfisterer, M.D.\n",
    "    - V.A. Medical Center, Long Beach and Cleveland Clinic Foundation: Robert Detrano, M.D., Ph.D.\n",
    "- Donor: David W. Aha (aha@ics.uci.edu) (714) 856-8779   \n",
    "- Date: July, 1988\n",
    "\n",
    "**Variables:**   \n",
    "14 variables are to be extracted of the 76 available:\n",
    "- Sex ('sex')\n",
    "- Age ('age')\n",
    "- Chest pain type ('cp')\n",
    "    - 1: Typical angina\n",
    "    - 2: Atypical angina\n",
    "    - 3: Non-anginal pain\n",
    "    - 4: Asymptomatic\n",
    "- Resting blood pressure (mm/Hg) on admission ('trestbps')\n",
    "- Serum cholesterol (mg/dl) ('chol')\n",
    "- Fasting blood sugar ('fbs')\n",
    "    - 1: Over 120mg/dl\n",
    "    - 0: Under 120mg/dl\n",
    "- Resting electrocardiographic results ('restecg')\n",
    "    - 0: Normal\n",
    "    - 1: ST-T wave abnormality\n",
    "    - 2: Probable or definite left ventricular hypertrophy\n",
    "- Maximum heart rate achieved ('thalach')\n",
    "- Exercise induced angina ('exang')\n",
    "    - 1: Yes\n",
    "    - 0: No\n",
    "- ST depression induced by exercise relative to rest ('oldpeak')\n",
    "- Slope of the peak exercise ST segment ('slope')\n",
    "    - 1: Upsloping\n",
    "    - 2: Flat\n",
    "    - 3: Downsloping\n",
    "- Number of major vessels colored by fluoroscopy ('ca')\n",
    "- thal ('thal')\n",
    "    - 3: Normal\n",
    "    - 6: Fixed defect\n",
    "    - 7: Reversable defect\n",
    "- Diagnosis of heart disease (angiographic disease status) (num)\n",
    "    - Value 0: < 50% diameter narrowing\n",
    "    - Value 1+: > 50% diameter narrowing"
   ]
  },
  {
   "cell_type": "markdown",
   "metadata": {},
   "source": [
    "### 3.1 Defining column names\n",
    "Column names for our upcoming dataframe, which are named after the variables we are interested in studying."
   ]
  },
  {
   "cell_type": "code",
   "execution_count": 61,
   "metadata": {},
   "outputs": [],
   "source": [
    "column_names = ['age', 'ca', 'chol', 'cp', 'exang', 'fbs', 'num', 'oldpeak', 'restacg', 'sex', 'slope', 'thal', 'thalach', 'trestbps']"
   ]
  },
  {
   "cell_type": "markdown",
   "metadata": {},
   "source": [
    "### 3.2 Defining function for processing the raw data\n",
    "The function loads up the data into a temporary Pandas dataframe. After this a Pandas series is created for each variable we are interested in extracting from the raw dataframe. A loop then iterates over the dataframe, which snatches relevant information from every row along the way into its respective Pandas series. Finally a new dataframe is created, where all of the seris are merged, the index column is dropped and all values of -9 are converted to NaNs, as this is how empty values were encoded in the raw data. The newly created dataframe is then returned."
   ]
  },
  {
   "cell_type": "code",
   "execution_count": 62,
   "metadata": {},
   "outputs": [],
   "source": [
    "def parse_raw(infile, cut_end=0):\n",
    "\tformat_columns = [\"c0\", \"c1\", \"c2\", \"c3\", \"c4\", \"c5\", \"c6\", \"c7\"]\n",
    "\tdf_raw = pd.read_csv(infile, sep=\" \", names=format_columns)\n",
    "\tdf = pd.DataFrame(columns=column_names)\n",
    "\t\n",
    "\tif(cut_end == 0):\n",
    "\t\tdf_size = df_raw.shape[0] // 10\n",
    "\telse:\n",
    "\t\tdf_size = cut_end // 10\n",
    "\t\n",
    "\tage = pd.Series(np.zeros((df_size)), dtype=\"int32\")\n",
    "\tsex = pd.Series(np.zeros((df_size)), dtype=\"int32\")\n",
    "\tcp = pd.Series(np.zeros((df_size)), dtype=\"int32\")\n",
    "\ttrestbps = pd.Series(np.zeros((df_size)), dtype=\"int32\")\n",
    "\tchol = pd.Series(np.zeros((df_size)), dtype=\"int32\")\n",
    "\tfbs = pd.Series(np.zeros((df_size)), dtype=\"int32\")\n",
    "\trestecg = pd.Series(np.zeros((df_size)), dtype=\"int32\")\n",
    "\tthalach = pd.Series(np.zeros((df_size)), dtype=\"int32\")\n",
    "\texang = pd.Series(np.zeros((df_size)), dtype=\"int32\")\n",
    "\toldpeak = pd.Series(np.zeros((df_size)), dtype=\"int32\")\n",
    "\tslope = pd.Series(np.zeros((df_size)), dtype=\"int32\")\n",
    "\tca = pd.Series(np.zeros((df_size)), dtype=\"int32\")\n",
    "\tthal = pd.Series(np.zeros((df_size)), dtype=\"int32\")\n",
    "\tnum = pd.Series(np.zeros((df_size)), dtype=\"int32\")\n",
    "\t\n",
    "\tfor index, row in df_raw.iterrows():\n",
    "\t\tif(cut_end != 0):\n",
    "\t\t\tif(index == cut_end):\n",
    "\t\t\t\tbreak;\n",
    "\t\t\n",
    "\t\tm = index % 10\n",
    "\t\tif(m == 0):\n",
    "\t\t\tage[index // 10] = row[2]\n",
    "\t\t\tsex[index // 10] = row[3]\n",
    "\n",
    "\t\telif(m == 1):\n",
    "\t\t\tcp[index // 10] = row[1]\n",
    "\t\t\ttrestbps[index // 10] = row[2]\n",
    "\t\t\tchol[index // 10] = row[4]\n",
    "\t\t\t\n",
    "\t\telif(m == 2):\n",
    "\t\t\tfbs[index // 10] = row[0]\n",
    "\t\t\trestecg[index // 10] = row[3]\n",
    "\t\t\t\n",
    "\t\telif(m == 4):\n",
    "\t\t\tthalach[index // 10] = row[0]\n",
    "\t\t\texang[index // 10] = row[6]\n",
    "\t\t\t\n",
    "\t\telif(m == 5):\n",
    "\t\t\toldpeak[index // 10] = row[0]\n",
    "\t\t\tslope[index // 10] = row[1]\n",
    "\t\t\tca[index // 10] = row[4]\n",
    "\t\telif(m == 6):\n",
    "\t\t\tthal[index // 10] = row[3]\n",
    "\t\t\t\n",
    "\t\telif(m == 7):\n",
    "\t\t\tnum[index // 10] = row[2]\n",
    "\t\t\n",
    "\tdf = pd.DataFrame(dict(age = age, sex = sex, cp = cp, trestbps = trestbps, chol = chol, fbs = fbs, restacg = restecg, thalach = thalach, exang = exang, oldpeak = oldpeak, slope = slope, ca = ca, thal = thal, num = num)).reset_index()\n",
    "\tdf = df.drop(\"index\", axis=1)\n",
    "\tdf = df.replace(-9, np.nan)\n",
    "\treturn df"
   ]
  },
  {
   "cell_type": "markdown",
   "metadata": {},
   "source": [
    "### 3.3 Loading data"
   ]
  },
  {
   "cell_type": "markdown",
   "metadata": {},
   "source": [
    "#### 3.3.1 Loading and parsing of data\n",
    "All four data sets are processed to a suitable form using the previously defined parse_raw(). The last 21 samples of the Cleveland data were discarded due to data corruption. The cut_end argument passed to parse_raw() defines the row cutoff point for the file."
   ]
  },
  {
   "cell_type": "code",
   "execution_count": 63,
   "metadata": {},
   "outputs": [],
   "source": [
    "df_cl = parse_raw(\"C:\\\\Users\\\\micromikko\\\\AnacondaProjects\\\\data\\\\case1_data\\\\cleveland.data\", cut_end=2820)\n",
    "df_hu = parse_raw(\"C:\\\\Users\\\\micromikko\\\\AnacondaProjects\\\\data\\\\case1_data\\\\hungarian.data\")\n",
    "df_lbv = parse_raw(\"C:\\\\Users\\\\micromikko\\\\AnacondaProjects\\\\data\\\\case1_data\\\\long-beach-va.data\")\n",
    "df_sw = parse_raw(\"C:\\\\Users\\\\micromikko\\\\AnacondaProjects\\\\data\\\\case1_data\\\\switzerland.data\")"
   ]
  },
  {
   "cell_type": "markdown",
   "metadata": {},
   "source": [
    "#### 3.3.2 Entry counts in data frames"
   ]
  },
  {
   "cell_type": "code",
   "execution_count": 64,
   "metadata": {},
   "outputs": [
    {
     "name": "stdout",
     "output_type": "stream",
     "text": [
      "Entries in Clevelend data:\t 282\n",
      "Entries in Hungarian data:\t 294\n",
      "Entries in Long Beach VA data:\t 200\n",
      "Entries in Switzerland data:\t 123\n"
     ]
    }
   ],
   "source": [
    "print(\"Entries in Clevelend data:\\t\", len(df_cl))\n",
    "print(\"Entries in Hungarian data:\\t\", len(df_hu))\n",
    "print(\"Entries in Long Beach VA data:\\t\", len(df_lbv))\n",
    "print(\"Entries in Switzerland data:\\t\", len(df_sw))"
   ]
  },
  {
   "cell_type": "markdown",
   "metadata": {},
   "source": [
    "#### 3.3.3 Combining dataframes\n",
    "All four data frames are combined into one and confirmed the sums match."
   ]
  },
  {
   "cell_type": "code",
   "execution_count": 65,
   "metadata": {},
   "outputs": [
    {
     "name": "stdout",
     "output_type": "stream",
     "text": [
      "Number of entries in combined dataframe matches the separate data frame entry counts.\n",
      "Entries in the dataset: 899\n"
     ]
    }
   ],
   "source": [
    "frames = [df_sw, df_hu, df_cl, df_lbv]\n",
    "df = pd.concat(frames, axis=0, ignore_index=True)\n",
    "\n",
    "if(len(df_cl) + len(df_hu) + len(df_lbv) + len(df_sw) == len(df)):\n",
    "\tprint(\"Number of entries in combined dataframe matches the separate data frame entry counts.\\nEntries in the dataset: \" + str(len(df.index)))\n",
    "else:\n",
    "\tprint(\"Number of entries in combined dataframe does not match the separate data frame entry counts.\")"
   ]
  },
  {
   "cell_type": "markdown",
   "metadata": {},
   "source": [
    "### 3.4 Examining our data"
   ]
  },
  {
   "cell_type": "markdown",
   "metadata": {},
   "source": [
    "#### 3.4.1 Sample of 10 entries\n",
    "This step is to check if the data seems to be in the rough format."
   ]
  },
  {
   "cell_type": "code",
   "execution_count": 66,
   "metadata": {},
   "outputs": [
    {
     "data": {
      "text/html": [
       "<div>\n",
       "<style scoped>\n",
       "    .dataframe tbody tr th:only-of-type {\n",
       "        vertical-align: middle;\n",
       "    }\n",
       "\n",
       "    .dataframe tbody tr th {\n",
       "        vertical-align: top;\n",
       "    }\n",
       "\n",
       "    .dataframe thead th {\n",
       "        text-align: right;\n",
       "    }\n",
       "</style>\n",
       "<table border=\"1\" class=\"dataframe\">\n",
       "  <thead>\n",
       "    <tr style=\"text-align: right;\">\n",
       "      <th></th>\n",
       "      <th>age</th>\n",
       "      <th>ca</th>\n",
       "      <th>chol</th>\n",
       "      <th>cp</th>\n",
       "      <th>exang</th>\n",
       "      <th>fbs</th>\n",
       "      <th>num</th>\n",
       "      <th>oldpeak</th>\n",
       "      <th>restacg</th>\n",
       "      <th>sex</th>\n",
       "      <th>slope</th>\n",
       "      <th>thal</th>\n",
       "      <th>thalach</th>\n",
       "      <th>trestbps</th>\n",
       "    </tr>\n",
       "  </thead>\n",
       "  <tbody>\n",
       "    <tr>\n",
       "      <th>0</th>\n",
       "      <td>65</td>\n",
       "      <td>NaN</td>\n",
       "      <td>0.0</td>\n",
       "      <td>4</td>\n",
       "      <td>1.0</td>\n",
       "      <td>0.0</td>\n",
       "      <td>1</td>\n",
       "      <td>0</td>\n",
       "      <td>0.0</td>\n",
       "      <td>1</td>\n",
       "      <td>2.0</td>\n",
       "      <td>7.0</td>\n",
       "      <td>93.0</td>\n",
       "      <td>115.0</td>\n",
       "    </tr>\n",
       "    <tr>\n",
       "      <th>1</th>\n",
       "      <td>32</td>\n",
       "      <td>NaN</td>\n",
       "      <td>0.0</td>\n",
       "      <td>1</td>\n",
       "      <td>0.0</td>\n",
       "      <td>NaN</td>\n",
       "      <td>1</td>\n",
       "      <td>0</td>\n",
       "      <td>0.0</td>\n",
       "      <td>1</td>\n",
       "      <td>1.0</td>\n",
       "      <td>NaN</td>\n",
       "      <td>127.0</td>\n",
       "      <td>95.0</td>\n",
       "    </tr>\n",
       "    <tr>\n",
       "      <th>2</th>\n",
       "      <td>61</td>\n",
       "      <td>NaN</td>\n",
       "      <td>0.0</td>\n",
       "      <td>4</td>\n",
       "      <td>1.0</td>\n",
       "      <td>NaN</td>\n",
       "      <td>1</td>\n",
       "      <td>1</td>\n",
       "      <td>0.0</td>\n",
       "      <td>1</td>\n",
       "      <td>1.0</td>\n",
       "      <td>NaN</td>\n",
       "      <td>110.0</td>\n",
       "      <td>105.0</td>\n",
       "    </tr>\n",
       "    <tr>\n",
       "      <th>3</th>\n",
       "      <td>50</td>\n",
       "      <td>NaN</td>\n",
       "      <td>0.0</td>\n",
       "      <td>4</td>\n",
       "      <td>1.0</td>\n",
       "      <td>NaN</td>\n",
       "      <td>1</td>\n",
       "      <td>0</td>\n",
       "      <td>0.0</td>\n",
       "      <td>1</td>\n",
       "      <td>2.0</td>\n",
       "      <td>NaN</td>\n",
       "      <td>139.0</td>\n",
       "      <td>145.0</td>\n",
       "    </tr>\n",
       "    <tr>\n",
       "      <th>4</th>\n",
       "      <td>57</td>\n",
       "      <td>1.0</td>\n",
       "      <td>0.0</td>\n",
       "      <td>4</td>\n",
       "      <td>1.0</td>\n",
       "      <td>NaN</td>\n",
       "      <td>3</td>\n",
       "      <td>1</td>\n",
       "      <td>1.0</td>\n",
       "      <td>1</td>\n",
       "      <td>1.0</td>\n",
       "      <td>NaN</td>\n",
       "      <td>131.0</td>\n",
       "      <td>110.0</td>\n",
       "    </tr>\n",
       "    <tr>\n",
       "      <th>5</th>\n",
       "      <td>51</td>\n",
       "      <td>NaN</td>\n",
       "      <td>0.0</td>\n",
       "      <td>4</td>\n",
       "      <td>0.0</td>\n",
       "      <td>NaN</td>\n",
       "      <td>4</td>\n",
       "      <td>0</td>\n",
       "      <td>0.0</td>\n",
       "      <td>1</td>\n",
       "      <td>2.0</td>\n",
       "      <td>NaN</td>\n",
       "      <td>92.0</td>\n",
       "      <td>110.0</td>\n",
       "    </tr>\n",
       "    <tr>\n",
       "      <th>6</th>\n",
       "      <td>47</td>\n",
       "      <td>NaN</td>\n",
       "      <td>0.0</td>\n",
       "      <td>4</td>\n",
       "      <td>0.0</td>\n",
       "      <td>NaN</td>\n",
       "      <td>2</td>\n",
       "      <td>2</td>\n",
       "      <td>1.0</td>\n",
       "      <td>1</td>\n",
       "      <td>1.0</td>\n",
       "      <td>NaN</td>\n",
       "      <td>149.0</td>\n",
       "      <td>110.0</td>\n",
       "    </tr>\n",
       "    <tr>\n",
       "      <th>7</th>\n",
       "      <td>60</td>\n",
       "      <td>NaN</td>\n",
       "      <td>0.0</td>\n",
       "      <td>4</td>\n",
       "      <td>0.0</td>\n",
       "      <td>NaN</td>\n",
       "      <td>1</td>\n",
       "      <td>0</td>\n",
       "      <td>0.0</td>\n",
       "      <td>1</td>\n",
       "      <td>2.0</td>\n",
       "      <td>NaN</td>\n",
       "      <td>149.0</td>\n",
       "      <td>160.0</td>\n",
       "    </tr>\n",
       "    <tr>\n",
       "      <th>8</th>\n",
       "      <td>55</td>\n",
       "      <td>NaN</td>\n",
       "      <td>0.0</td>\n",
       "      <td>2</td>\n",
       "      <td>0.0</td>\n",
       "      <td>NaN</td>\n",
       "      <td>0</td>\n",
       "      <td>0</td>\n",
       "      <td>1.0</td>\n",
       "      <td>1</td>\n",
       "      <td>1.0</td>\n",
       "      <td>NaN</td>\n",
       "      <td>150.0</td>\n",
       "      <td>140.0</td>\n",
       "    </tr>\n",
       "    <tr>\n",
       "      <th>9</th>\n",
       "      <td>53</td>\n",
       "      <td>NaN</td>\n",
       "      <td>0.0</td>\n",
       "      <td>4</td>\n",
       "      <td>0.0</td>\n",
       "      <td>NaN</td>\n",
       "      <td>4</td>\n",
       "      <td>1</td>\n",
       "      <td>0.0</td>\n",
       "      <td>1</td>\n",
       "      <td>1.0</td>\n",
       "      <td>NaN</td>\n",
       "      <td>120.0</td>\n",
       "      <td>125.0</td>\n",
       "    </tr>\n",
       "  </tbody>\n",
       "</table>\n",
       "</div>"
      ],
      "text/plain": [
       "   age   ca  chol  cp  exang  fbs  num oldpeak  restacg  sex  slope  thal  \\\n",
       "0   65  NaN   0.0   4    1.0  0.0    1       0      0.0    1    2.0   7.0   \n",
       "1   32  NaN   0.0   1    0.0  NaN    1       0      0.0    1    1.0   NaN   \n",
       "2   61  NaN   0.0   4    1.0  NaN    1       1      0.0    1    1.0   NaN   \n",
       "3   50  NaN   0.0   4    1.0  NaN    1       0      0.0    1    2.0   NaN   \n",
       "4   57  1.0   0.0   4    1.0  NaN    3       1      1.0    1    1.0   NaN   \n",
       "5   51  NaN   0.0   4    0.0  NaN    4       0      0.0    1    2.0   NaN   \n",
       "6   47  NaN   0.0   4    0.0  NaN    2       2      1.0    1    1.0   NaN   \n",
       "7   60  NaN   0.0   4    0.0  NaN    1       0      0.0    1    2.0   NaN   \n",
       "8   55  NaN   0.0   2    0.0  NaN    0       0      1.0    1    1.0   NaN   \n",
       "9   53  NaN   0.0   4    0.0  NaN    4       1      0.0    1    1.0   NaN   \n",
       "\n",
       "   thalach  trestbps  \n",
       "0     93.0     115.0  \n",
       "1    127.0      95.0  \n",
       "2    110.0     105.0  \n",
       "3    139.0     145.0  \n",
       "4    131.0     110.0  \n",
       "5     92.0     110.0  \n",
       "6    149.0     110.0  \n",
       "7    149.0     160.0  \n",
       "8    150.0     140.0  \n",
       "9    120.0     125.0  "
      ]
     },
     "execution_count": 66,
     "metadata": {},
     "output_type": "execute_result"
    }
   ],
   "source": [
    "df.head(10)"
   ]
  },
  {
   "cell_type": "markdown",
   "metadata": {},
   "source": [
    "#### 3.4.2 Basic statistical characteristics\n",
    "We check the basic statistical characteristics to find any possible weird occurrences in our data set.\n",
    "<br><br>\n",
    "As it turns out, the min value for quite a few of our variables seems to be zero, which might indicate that they are missing. The mean and max values seem to be alright for now."
   ]
  },
  {
   "cell_type": "code",
   "execution_count": 67,
   "metadata": {},
   "outputs": [
    {
     "data": {
      "text/html": [
       "<div>\n",
       "<style scoped>\n",
       "    .dataframe tbody tr th:only-of-type {\n",
       "        vertical-align: middle;\n",
       "    }\n",
       "\n",
       "    .dataframe tbody tr th {\n",
       "        vertical-align: top;\n",
       "    }\n",
       "\n",
       "    .dataframe thead th {\n",
       "        text-align: right;\n",
       "    }\n",
       "</style>\n",
       "<table border=\"1\" class=\"dataframe\">\n",
       "  <thead>\n",
       "    <tr style=\"text-align: right;\">\n",
       "      <th></th>\n",
       "      <th>age</th>\n",
       "      <th>ca</th>\n",
       "      <th>chol</th>\n",
       "      <th>cp</th>\n",
       "      <th>exang</th>\n",
       "      <th>fbs</th>\n",
       "      <th>num</th>\n",
       "      <th>restacg</th>\n",
       "      <th>sex</th>\n",
       "      <th>slope</th>\n",
       "      <th>thal</th>\n",
       "      <th>thalach</th>\n",
       "      <th>trestbps</th>\n",
       "    </tr>\n",
       "  </thead>\n",
       "  <tbody>\n",
       "    <tr>\n",
       "      <th>count</th>\n",
       "      <td>899.000000</td>\n",
       "      <td>291.000000</td>\n",
       "      <td>869.000000</td>\n",
       "      <td>899.000000</td>\n",
       "      <td>844.000000</td>\n",
       "      <td>809.000000</td>\n",
       "      <td>899.000000</td>\n",
       "      <td>897.000000</td>\n",
       "      <td>899.000000</td>\n",
       "      <td>591.000000</td>\n",
       "      <td>422.000000</td>\n",
       "      <td>844.000000</td>\n",
       "      <td>840.000000</td>\n",
       "    </tr>\n",
       "    <tr>\n",
       "      <th>mean</th>\n",
       "      <td>53.480534</td>\n",
       "      <td>0.697595</td>\n",
       "      <td>198.759494</td>\n",
       "      <td>3.253615</td>\n",
       "      <td>0.390995</td>\n",
       "      <td>0.166873</td>\n",
       "      <td>1.129032</td>\n",
       "      <td>0.603122</td>\n",
       "      <td>0.790879</td>\n",
       "      <td>1.766497</td>\n",
       "      <td>5.018957</td>\n",
       "      <td>137.298578</td>\n",
       "      <td>132.101190</td>\n",
       "    </tr>\n",
       "    <tr>\n",
       "      <th>std</th>\n",
       "      <td>9.435894</td>\n",
       "      <td>1.052728</td>\n",
       "      <td>111.834415</td>\n",
       "      <td>0.928499</td>\n",
       "      <td>0.488263</td>\n",
       "      <td>0.373093</td>\n",
       "      <td>1.259720</td>\n",
       "      <td>0.803669</td>\n",
       "      <td>0.406908</td>\n",
       "      <td>0.621339</td>\n",
       "      <td>1.949388</td>\n",
       "      <td>25.965959</td>\n",
       "      <td>19.151127</td>\n",
       "    </tr>\n",
       "    <tr>\n",
       "      <th>min</th>\n",
       "      <td>28.000000</td>\n",
       "      <td>0.000000</td>\n",
       "      <td>0.000000</td>\n",
       "      <td>1.000000</td>\n",
       "      <td>0.000000</td>\n",
       "      <td>0.000000</td>\n",
       "      <td>0.000000</td>\n",
       "      <td>0.000000</td>\n",
       "      <td>0.000000</td>\n",
       "      <td>0.000000</td>\n",
       "      <td>1.000000</td>\n",
       "      <td>60.000000</td>\n",
       "      <td>0.000000</td>\n",
       "    </tr>\n",
       "    <tr>\n",
       "      <th>25%</th>\n",
       "      <td>47.000000</td>\n",
       "      <td>0.000000</td>\n",
       "      <td>175.000000</td>\n",
       "      <td>3.000000</td>\n",
       "      <td>0.000000</td>\n",
       "      <td>0.000000</td>\n",
       "      <td>0.000000</td>\n",
       "      <td>0.000000</td>\n",
       "      <td>1.000000</td>\n",
       "      <td>1.000000</td>\n",
       "      <td>3.000000</td>\n",
       "      <td>120.000000</td>\n",
       "      <td>120.000000</td>\n",
       "    </tr>\n",
       "    <tr>\n",
       "      <th>50%</th>\n",
       "      <td>54.000000</td>\n",
       "      <td>0.000000</td>\n",
       "      <td>224.000000</td>\n",
       "      <td>4.000000</td>\n",
       "      <td>0.000000</td>\n",
       "      <td>0.000000</td>\n",
       "      <td>1.000000</td>\n",
       "      <td>0.000000</td>\n",
       "      <td>1.000000</td>\n",
       "      <td>2.000000</td>\n",
       "      <td>6.000000</td>\n",
       "      <td>140.000000</td>\n",
       "      <td>130.000000</td>\n",
       "    </tr>\n",
       "    <tr>\n",
       "      <th>75%</th>\n",
       "      <td>60.000000</td>\n",
       "      <td>1.000000</td>\n",
       "      <td>269.000000</td>\n",
       "      <td>4.000000</td>\n",
       "      <td>1.000000</td>\n",
       "      <td>0.000000</td>\n",
       "      <td>2.000000</td>\n",
       "      <td>1.000000</td>\n",
       "      <td>1.000000</td>\n",
       "      <td>2.000000</td>\n",
       "      <td>7.000000</td>\n",
       "      <td>157.000000</td>\n",
       "      <td>140.000000</td>\n",
       "    </tr>\n",
       "    <tr>\n",
       "      <th>max</th>\n",
       "      <td>77.000000</td>\n",
       "      <td>9.000000</td>\n",
       "      <td>603.000000</td>\n",
       "      <td>4.000000</td>\n",
       "      <td>1.000000</td>\n",
       "      <td>1.000000</td>\n",
       "      <td>4.000000</td>\n",
       "      <td>2.000000</td>\n",
       "      <td>1.000000</td>\n",
       "      <td>3.000000</td>\n",
       "      <td>7.000000</td>\n",
       "      <td>202.000000</td>\n",
       "      <td>200.000000</td>\n",
       "    </tr>\n",
       "  </tbody>\n",
       "</table>\n",
       "</div>"
      ],
      "text/plain": [
       "              age          ca        chol          cp       exang         fbs  \\\n",
       "count  899.000000  291.000000  869.000000  899.000000  844.000000  809.000000   \n",
       "mean    53.480534    0.697595  198.759494    3.253615    0.390995    0.166873   \n",
       "std      9.435894    1.052728  111.834415    0.928499    0.488263    0.373093   \n",
       "min     28.000000    0.000000    0.000000    1.000000    0.000000    0.000000   \n",
       "25%     47.000000    0.000000  175.000000    3.000000    0.000000    0.000000   \n",
       "50%     54.000000    0.000000  224.000000    4.000000    0.000000    0.000000   \n",
       "75%     60.000000    1.000000  269.000000    4.000000    1.000000    0.000000   \n",
       "max     77.000000    9.000000  603.000000    4.000000    1.000000    1.000000   \n",
       "\n",
       "              num     restacg         sex       slope        thal     thalach  \\\n",
       "count  899.000000  897.000000  899.000000  591.000000  422.000000  844.000000   \n",
       "mean     1.129032    0.603122    0.790879    1.766497    5.018957  137.298578   \n",
       "std      1.259720    0.803669    0.406908    0.621339    1.949388   25.965959   \n",
       "min      0.000000    0.000000    0.000000    0.000000    1.000000   60.000000   \n",
       "25%      0.000000    0.000000    1.000000    1.000000    3.000000  120.000000   \n",
       "50%      1.000000    0.000000    1.000000    2.000000    6.000000  140.000000   \n",
       "75%      2.000000    1.000000    1.000000    2.000000    7.000000  157.000000   \n",
       "max      4.000000    2.000000    1.000000    3.000000    7.000000  202.000000   \n",
       "\n",
       "         trestbps  \n",
       "count  840.000000  \n",
       "mean   132.101190  \n",
       "std     19.151127  \n",
       "min      0.000000  \n",
       "25%    120.000000  \n",
       "50%    130.000000  \n",
       "75%    140.000000  \n",
       "max    200.000000  "
      ]
     },
     "execution_count": 67,
     "metadata": {},
     "output_type": "execute_result"
    }
   ],
   "source": [
    "df.describe()"
   ]
  },
  {
   "cell_type": "markdown",
   "metadata": {},
   "source": [
    "#### 3.4.3 A more in-depth look at our missing values\n",
    "Due to some some funny elements in the statistical description of our data set, we want to look further into the missing values.\n",
    "<br><br>\n",
    "The find_missing_by_column() function checks the sum of missing values for every column. It also displays the same information as a percentage.\n",
    "<br><br>\n",
    "It is important to note that our target, \"num\", contains no empty entries, which means we could theoretically use all and any rows if we wanted to."
   ]
  },
  {
   "cell_type": "code",
   "execution_count": 68,
   "metadata": {},
   "outputs": [],
   "source": [
    "def find_missing_by_column(dataframe, colnames):\n",
    "\tprint(\"Missing values\\n\\nCol name\\t #\\t\\t %\\n----------------------------------------\")\n",
    "\ti = 0\n",
    "\tfor column in dataframe:\n",
    "\t\tif len(str(colnames[i])) < 7:\n",
    "\t\t\tprint(colnames[i], \"\\t\\t\", dataframe[column].isnull().sum(), \"\\t\\t\", round( (dataframe[column].isnull().sum()) / dataframe[column].size * 100, 2) )\n",
    "\t\telse:\n",
    "\t\t\tprint(colnames[i], \"\\t\", dataframe[column].isnull().sum(), \"\\t\\t\", round( (dataframe[column].isnull().sum()) / dataframe[column].size * 100, 2) )\n",
    "\t\ti += 1"
   ]
  },
  {
   "cell_type": "code",
   "execution_count": 69,
   "metadata": {},
   "outputs": [
    {
     "name": "stdout",
     "output_type": "stream",
     "text": [
      "Missing values\n",
      "\n",
      "Col name\t #\t\t %\n",
      "----------------------------------------\n",
      "age \t\t 0 \t\t 0.0\n",
      "ca \t\t 608 \t\t 67.63\n",
      "chol \t\t 30 \t\t 3.34\n",
      "cp \t\t 0 \t\t 0.0\n",
      "exang \t\t 55 \t\t 6.12\n",
      "fbs \t\t 90 \t\t 10.01\n",
      "num \t\t 0 \t\t 0.0\n",
      "oldpeak \t 62 \t\t 6.9\n",
      "restacg \t 2 \t\t 0.22\n",
      "sex \t\t 0 \t\t 0.0\n",
      "slope \t\t 308 \t\t 34.26\n",
      "thal \t\t 477 \t\t 53.06\n",
      "thalach \t 55 \t\t 6.12\n",
      "trestbps \t 59 \t\t 6.56\n"
     ]
    }
   ],
   "source": [
    "find_missing_by_column(df, column_names)"
   ]
  },
  {
   "cell_type": "markdown",
   "metadata": {},
   "source": [
    "#### 3.4.4 What if we dropped all rows with missing values?\n",
    "It turns out that if we were to discard all rows with missing values, we would lose almost 70% of our data, which is rather drastic. I decided against this route for this study."
   ]
  },
  {
   "cell_type": "code",
   "execution_count": 70,
   "metadata": {},
   "outputs": [
    {
     "name": "stdout",
     "output_type": "stream",
     "text": [
      "age         280\n",
      "ca          280\n",
      "chol        280\n",
      "cp          280\n",
      "exang       280\n",
      "fbs         280\n",
      "num         280\n",
      "oldpeak     280\n",
      "restacg     280\n",
      "sex         280\n",
      "slope       280\n",
      "thal        280\n",
      "thalach     280\n",
      "trestbps    280\n",
      "dtype: int64\n"
     ]
    }
   ],
   "source": [
    "print(df.dropna().count())"
   ]
  },
  {
   "cell_type": "markdown",
   "metadata": {},
   "source": [
    "### 3.5 Dropping out irrelevant columns\n",
    "As columns \"ca\" and \"thal\" have over 53% and 67% of their values missing, I rule them as hindering columns and drop them out entirely. After some deliberation, \"slope\" was re-added after I had already dropped it for having over a third of its values missing. However, in the end I decided that the missing values were acceptable in this case.\n",
    "<br><br>\n",
    " After our cuts, a maximum of 35% of any column's values are missing, which we deem acceptable.\n",
    "<br><br>\n",
    "We are also sure to remove these items from the column_names list."
   ]
  },
  {
   "cell_type": "code",
   "execution_count": 71,
   "metadata": {},
   "outputs": [],
   "source": [
    "column_names.remove(\"ca\")\n",
    "column_names.remove(\"thal\")\n",
    "#column_names.remove(\"slope\")\n",
    "\n",
    "df.drop(\"ca\", axis=1, inplace=True)\n",
    "df.drop(\"thal\", axis=1, inplace=True)\n",
    "#df.drop(\"slope\", axis=1, inplace=True)"
   ]
  },
  {
   "cell_type": "code",
   "execution_count": 72,
   "metadata": {},
   "outputs": [
    {
     "name": "stdout",
     "output_type": "stream",
     "text": [
      "['age', 'chol', 'cp', 'exang', 'fbs', 'num', 'oldpeak', 'restacg', 'sex', 'slope', 'thalach', 'trestbps']\n"
     ]
    }
   ],
   "source": [
    "print(list(df))"
   ]
  },
  {
   "cell_type": "markdown",
   "metadata": {},
   "source": [
    "##### After removing these three columns, our NaN table looks as follows"
   ]
  },
  {
   "cell_type": "code",
   "execution_count": 73,
   "metadata": {},
   "outputs": [
    {
     "name": "stdout",
     "output_type": "stream",
     "text": [
      "Missing values\n",
      "\n",
      "Col name\t #\t\t %\n",
      "----------------------------------------\n",
      "age \t\t 0 \t\t 0.0\n",
      "chol \t\t 30 \t\t 3.34\n",
      "cp \t\t 0 \t\t 0.0\n",
      "exang \t\t 55 \t\t 6.12\n",
      "fbs \t\t 90 \t\t 10.01\n",
      "num \t\t 0 \t\t 0.0\n",
      "oldpeak \t 62 \t\t 6.9\n",
      "restacg \t 2 \t\t 0.22\n",
      "sex \t\t 0 \t\t 0.0\n",
      "slope \t\t 308 \t\t 34.26\n",
      "thalach \t 55 \t\t 6.12\n",
      "trestbps \t 59 \t\t 6.56\n"
     ]
    }
   ],
   "source": [
    "find_missing_by_column(df, column_names)"
   ]
  },
  {
   "cell_type": "markdown",
   "metadata": {},
   "source": [
    "### 3.6 Further examination\n",
    "We will now examine the data via histograms and correlation matrices to find out any useful preliminary information."
   ]
  },
  {
   "cell_type": "markdown",
   "metadata": {},
   "source": [
    "#### 3.6.1 Correlation matrix"
   ]
  },
  {
   "cell_type": "code",
   "execution_count": 74,
   "metadata": {},
   "outputs": [
    {
     "data": {
      "text/html": [
       "<div>\n",
       "<style scoped>\n",
       "    .dataframe tbody tr th:only-of-type {\n",
       "        vertical-align: middle;\n",
       "    }\n",
       "\n",
       "    .dataframe tbody tr th {\n",
       "        vertical-align: top;\n",
       "    }\n",
       "\n",
       "    .dataframe thead th {\n",
       "        text-align: right;\n",
       "    }\n",
       "</style>\n",
       "<table border=\"1\" class=\"dataframe\">\n",
       "  <thead>\n",
       "    <tr style=\"text-align: right;\">\n",
       "      <th></th>\n",
       "      <th>age</th>\n",
       "      <th>chol</th>\n",
       "      <th>cp</th>\n",
       "      <th>exang</th>\n",
       "      <th>fbs</th>\n",
       "      <th>num</th>\n",
       "      <th>restacg</th>\n",
       "      <th>sex</th>\n",
       "      <th>slope</th>\n",
       "      <th>thalach</th>\n",
       "      <th>trestbps</th>\n",
       "    </tr>\n",
       "  </thead>\n",
       "  <tbody>\n",
       "    <tr>\n",
       "      <th>age</th>\n",
       "      <td>1.000000</td>\n",
       "      <td>-0.089320</td>\n",
       "      <td>0.160080</td>\n",
       "      <td>0.203378</td>\n",
       "      <td>0.232141</td>\n",
       "      <td>0.277798</td>\n",
       "      <td>0.208106</td>\n",
       "      <td>0.063616</td>\n",
       "      <td>0.143725</td>\n",
       "      <td>-0.367712</td>\n",
       "      <td>0.240246</td>\n",
       "    </tr>\n",
       "    <tr>\n",
       "      <th>chol</th>\n",
       "      <td>-0.089320</td>\n",
       "      <td>1.000000</td>\n",
       "      <td>-0.130739</td>\n",
       "      <td>-0.031346</td>\n",
       "      <td>0.026925</td>\n",
       "      <td>-0.128412</td>\n",
       "      <td>0.117848</td>\n",
       "      <td>-0.196124</td>\n",
       "      <td>-0.063350</td>\n",
       "      <td>0.236630</td>\n",
       "      <td>0.095424</td>\n",
       "    </tr>\n",
       "    <tr>\n",
       "      <th>cp</th>\n",
       "      <td>0.160080</td>\n",
       "      <td>-0.130739</td>\n",
       "      <td>1.000000</td>\n",
       "      <td>0.413698</td>\n",
       "      <td>0.031106</td>\n",
       "      <td>0.397565</td>\n",
       "      <td>0.028318</td>\n",
       "      <td>0.178850</td>\n",
       "      <td>0.203397</td>\n",
       "      <td>-0.343858</td>\n",
       "      <td>0.015484</td>\n",
       "    </tr>\n",
       "    <tr>\n",
       "      <th>exang</th>\n",
       "      <td>0.203378</td>\n",
       "      <td>-0.031346</td>\n",
       "      <td>0.413698</td>\n",
       "      <td>1.000000</td>\n",
       "      <td>0.029868</td>\n",
       "      <td>0.438906</td>\n",
       "      <td>0.032473</td>\n",
       "      <td>0.197555</td>\n",
       "      <td>0.327172</td>\n",
       "      <td>-0.354568</td>\n",
       "      <td>0.153194</td>\n",
       "    </tr>\n",
       "    <tr>\n",
       "      <th>fbs</th>\n",
       "      <td>0.232141</td>\n",
       "      <td>0.026925</td>\n",
       "      <td>0.031106</td>\n",
       "      <td>0.029868</td>\n",
       "      <td>1.000000</td>\n",
       "      <td>0.124605</td>\n",
       "      <td>0.127878</td>\n",
       "      <td>0.092508</td>\n",
       "      <td>0.077264</td>\n",
       "      <td>-0.045129</td>\n",
       "      <td>0.148366</td>\n",
       "    </tr>\n",
       "    <tr>\n",
       "      <th>num</th>\n",
       "      <td>0.277798</td>\n",
       "      <td>-0.128412</td>\n",
       "      <td>0.397565</td>\n",
       "      <td>0.438906</td>\n",
       "      <td>0.124605</td>\n",
       "      <td>1.000000</td>\n",
       "      <td>0.080755</td>\n",
       "      <td>0.265602</td>\n",
       "      <td>0.322021</td>\n",
       "      <td>-0.391915</td>\n",
       "      <td>0.161678</td>\n",
       "    </tr>\n",
       "    <tr>\n",
       "      <th>restacg</th>\n",
       "      <td>0.208106</td>\n",
       "      <td>0.117848</td>\n",
       "      <td>0.028318</td>\n",
       "      <td>0.032473</td>\n",
       "      <td>0.127878</td>\n",
       "      <td>0.080755</td>\n",
       "      <td>1.000000</td>\n",
       "      <td>-0.012321</td>\n",
       "      <td>-0.010269</td>\n",
       "      <td>0.057040</td>\n",
       "      <td>0.089740</td>\n",
       "    </tr>\n",
       "    <tr>\n",
       "      <th>sex</th>\n",
       "      <td>0.063616</td>\n",
       "      <td>-0.196124</td>\n",
       "      <td>0.178850</td>\n",
       "      <td>0.197555</td>\n",
       "      <td>0.092508</td>\n",
       "      <td>0.265602</td>\n",
       "      <td>-0.012321</td>\n",
       "      <td>1.000000</td>\n",
       "      <td>0.128366</td>\n",
       "      <td>-0.183561</td>\n",
       "      <td>0.004917</td>\n",
       "    </tr>\n",
       "    <tr>\n",
       "      <th>slope</th>\n",
       "      <td>0.143725</td>\n",
       "      <td>-0.063350</td>\n",
       "      <td>0.203397</td>\n",
       "      <td>0.327172</td>\n",
       "      <td>0.077264</td>\n",
       "      <td>0.322021</td>\n",
       "      <td>-0.010269</td>\n",
       "      <td>0.128366</td>\n",
       "      <td>1.000000</td>\n",
       "      <td>-0.358420</td>\n",
       "      <td>0.066278</td>\n",
       "    </tr>\n",
       "    <tr>\n",
       "      <th>thalach</th>\n",
       "      <td>-0.367712</td>\n",
       "      <td>0.236630</td>\n",
       "      <td>-0.343858</td>\n",
       "      <td>-0.354568</td>\n",
       "      <td>-0.045129</td>\n",
       "      <td>-0.391915</td>\n",
       "      <td>0.057040</td>\n",
       "      <td>-0.183561</td>\n",
       "      <td>-0.358420</td>\n",
       "      <td>1.000000</td>\n",
       "      <td>-0.102643</td>\n",
       "    </tr>\n",
       "    <tr>\n",
       "      <th>trestbps</th>\n",
       "      <td>0.240246</td>\n",
       "      <td>0.095424</td>\n",
       "      <td>0.015484</td>\n",
       "      <td>0.153194</td>\n",
       "      <td>0.148366</td>\n",
       "      <td>0.161678</td>\n",
       "      <td>0.089740</td>\n",
       "      <td>0.004917</td>\n",
       "      <td>0.066278</td>\n",
       "      <td>-0.102643</td>\n",
       "      <td>1.000000</td>\n",
       "    </tr>\n",
       "  </tbody>\n",
       "</table>\n",
       "</div>"
      ],
      "text/plain": [
       "               age      chol        cp     exang       fbs       num  \\\n",
       "age       1.000000 -0.089320  0.160080  0.203378  0.232141  0.277798   \n",
       "chol     -0.089320  1.000000 -0.130739 -0.031346  0.026925 -0.128412   \n",
       "cp        0.160080 -0.130739  1.000000  0.413698  0.031106  0.397565   \n",
       "exang     0.203378 -0.031346  0.413698  1.000000  0.029868  0.438906   \n",
       "fbs       0.232141  0.026925  0.031106  0.029868  1.000000  0.124605   \n",
       "num       0.277798 -0.128412  0.397565  0.438906  0.124605  1.000000   \n",
       "restacg   0.208106  0.117848  0.028318  0.032473  0.127878  0.080755   \n",
       "sex       0.063616 -0.196124  0.178850  0.197555  0.092508  0.265602   \n",
       "slope     0.143725 -0.063350  0.203397  0.327172  0.077264  0.322021   \n",
       "thalach  -0.367712  0.236630 -0.343858 -0.354568 -0.045129 -0.391915   \n",
       "trestbps  0.240246  0.095424  0.015484  0.153194  0.148366  0.161678   \n",
       "\n",
       "           restacg       sex     slope   thalach  trestbps  \n",
       "age       0.208106  0.063616  0.143725 -0.367712  0.240246  \n",
       "chol      0.117848 -0.196124 -0.063350  0.236630  0.095424  \n",
       "cp        0.028318  0.178850  0.203397 -0.343858  0.015484  \n",
       "exang     0.032473  0.197555  0.327172 -0.354568  0.153194  \n",
       "fbs       0.127878  0.092508  0.077264 -0.045129  0.148366  \n",
       "num       0.080755  0.265602  0.322021 -0.391915  0.161678  \n",
       "restacg   1.000000 -0.012321 -0.010269  0.057040  0.089740  \n",
       "sex      -0.012321  1.000000  0.128366 -0.183561  0.004917  \n",
       "slope    -0.010269  0.128366  1.000000 -0.358420  0.066278  \n",
       "thalach   0.057040 -0.183561 -0.358420  1.000000 -0.102643  \n",
       "trestbps  0.089740  0.004917  0.066278 -0.102643  1.000000  "
      ]
     },
     "execution_count": 74,
     "metadata": {},
     "output_type": "execute_result"
    }
   ],
   "source": [
    "df.corr()"
   ]
  },
  {
   "cell_type": "markdown",
   "metadata": {},
   "source": [
    "#### 3.6.2 Correlation matrix visualised\n",
    "The heatmap of our correlation matrix is much easier to interpret at a glance than the numerical matrix. From this we can deduce that especially age, chest pain and excercise induced angina seem to positively correlate with heart disease, while low cholesterol negatively correlates with it. Also, since the maximum heart rate (thalach) positively correlates so strongly with age, it is expected to correlate negatively with heart disease. Younger people have higher maximum heart rates and are less prone to heart disease."
   ]
  },
  {
   "cell_type": "code",
   "execution_count": 75,
   "metadata": {},
   "outputs": [
    {
     "data": {
      "text/plain": [
       "<matplotlib.axes._subplots.AxesSubplot at 0x2a30b629828>"
      ]
     },
     "execution_count": 75,
     "metadata": {},
     "output_type": "execute_result"
    },
    {
     "data": {
      "image/png": "[encoded data removed]",
      "text/plain": [
       "<matplotlib.figure.Figure at 0x2a309335e80>"
      ]
     },
     "metadata": {},
     "output_type": "display_data"
    }
   ],
   "source": [
    "correlation = df.corr()\n",
    "sns.set(style=\"white\")\n",
    "\n",
    "whitemask = np.zeros_like(correlation, dtype=np.bool)\n",
    "whitemask[np.triu_indices_from(whitemask)] = True\n",
    "\n",
    "f, ax = plt.subplots(figsize=(14, 14))\n",
    "\n",
    "cmap = sns.diverging_palette(256, 15, as_cmap=True)\n",
    "\n",
    "sns.heatmap(correlation, mask=whitemask, cmap=cmap, vmax=.3, center=0, square=True, linewidths=1, cbar_kws={\"shrink\": .5})"
   ]
  },
  {
   "cell_type": "markdown",
   "metadata": {},
   "source": [
    "#### 3.6.3 Histograms\n",
    "Histograms can give a pretty good idea of the frequency distribution of a given data set, which is why we want to at least glance at it.\n",
    "<br><br>\n",
    "Quick observations:\n",
    "- age, chol (with outliers), thalach and trestbps have a rough gaussian distribution\n",
    "- most people in the data set do not suffer from chest pains\n",
    "- most people in the data set do not suffer from heart disease\n",
    "- most people in the data set are male\n",
    "- most people in the data set have lower than 120 mg/dl fasting blood sugar\n",
    "- most people in the data set do not have excercise induced angina\n",
    "- most people in the data set have normal electrocardiographic results"
   ]
  },
  {
   "cell_type": "code",
   "execution_count": 76,
   "metadata": {},
   "outputs": [
    {
     "data": {
      "text/plain": [
       "array([[<matplotlib.axes._subplots.AxesSubplot object at 0x000002A30A24DFD0>,\n",
       "        <matplotlib.axes._subplots.AxesSubplot object at 0x000002A30B6FEF98>,\n",
       "        <matplotlib.axes._subplots.AxesSubplot object at 0x000002A30B68A278>],\n",
       "       [<matplotlib.axes._subplots.AxesSubplot object at 0x000002A30B6AA828>,\n",
       "        <matplotlib.axes._subplots.AxesSubplot object at 0x000002A30B6CBD68>,\n",
       "        <matplotlib.axes._subplots.AxesSubplot object at 0x000002A30B6E8B38>],\n",
       "       [<matplotlib.axes._subplots.AxesSubplot object at 0x000002A30B750278>,\n",
       "        <matplotlib.axes._subplots.AxesSubplot object at 0x000002A30B7B07B8>,\n",
       "        <matplotlib.axes._subplots.AxesSubplot object at 0x000002A30B7D0DD8>],\n",
       "       [<matplotlib.axes._subplots.AxesSubplot object at 0x000002A30B7EE208>,\n",
       "        <matplotlib.axes._subplots.AxesSubplot object at 0x000002A30B80FF98>,\n",
       "        <matplotlib.axes._subplots.AxesSubplot object at 0x000002A30B837518>]], dtype=object)"
      ]
     },
     "execution_count": 76,
     "metadata": {},
     "output_type": "execute_result"
    },
    {
     "data": {
      "image/png": "[encoded data removed]",
      "text/plain": [
       "<matplotlib.figure.Figure at 0x2a30b7ae278>"
      ]
     },
     "metadata": {},
     "output_type": "display_data"
    }
   ],
   "source": [
    "df.hist(figsize=(16, 10))"
   ]
  },
  {
   "cell_type": "markdown",
   "metadata": {},
   "source": [
    "### 3.7 Filling in NaN values with column means\n",
    "NaN values will be filled with column means. Filling our NaNs with zeroes is not an option in most of our variables, as some of them are binary or ordinally scaled. We are cheating slightly, since we are filling lower scale variables with means, but it tends to provide reasonable results with sample sizes such as the ones we are using.\n",
    "<br><br>\n",
    "As an interesting note, for some reason the fillna() function worked normally on every other variable except \"oldpeak\". I still do not know the reason for this, as it was encoded exactly as the other variables. Since the provided function did not work, I replaced all NaNs with the value -666, calculated the mean for all of the column's values except these, and finally applied this mean to the stubborn NaN values. This is exactly what the ready made function does."
   ]
  },
  {
   "cell_type": "code",
   "execution_count": 77,
   "metadata": {},
   "outputs": [
    {
     "name": "stdout",
     "output_type": "stream",
     "text": [
      "Missing values\n",
      "\n",
      "Col name\t #\t\t %\n",
      "----------------------------------------\n",
      "age \t\t 0 \t\t 0.0\n",
      "chol \t\t 0 \t\t 0.0\n",
      "cp \t\t 0 \t\t 0.0\n",
      "exang \t\t 0 \t\t 0.0\n",
      "fbs \t\t 0 \t\t 0.0\n",
      "num \t\t 0 \t\t 0.0\n",
      "oldpeak \t 0 \t\t 0.0\n",
      "restacg \t 0 \t\t 0.0\n",
      "sex \t\t 0 \t\t 0.0\n",
      "slope \t\t 0 \t\t 0.0\n",
      "thalach \t 0 \t\t 0.0\n",
      "trestbps \t 0 \t\t 0.0\n",
      "\n",
      "df count:\n"
     ]
    },
    {
     "data": {
      "text/plain": [
       "age         899\n",
       "chol        899\n",
       "cp          899\n",
       "exang       899\n",
       "fbs         899\n",
       "num         899\n",
       "oldpeak     899\n",
       "restacg     899\n",
       "sex         899\n",
       "slope       899\n",
       "thalach     899\n",
       "trestbps    899\n",
       "dtype: int64"
      ]
     },
     "execution_count": 77,
     "metadata": {},
     "output_type": "execute_result"
    }
   ],
   "source": [
    "df.fillna(df.mean(), inplace=True)\n",
    "df[\"oldpeak\"].replace(np.nan, -666, inplace=True)\n",
    "\n",
    "sum = 0\n",
    "count = 0\n",
    "for i in range(len(df[\"oldpeak\"])):\n",
    "\tif i != -666:\n",
    "\t\tsum += i\n",
    "\t\tcount += 1\n",
    "mean = sum / count\n",
    "\n",
    "df[\"oldpeak\"].replace(-666, mean, inplace=True)\n",
    "\n",
    "find_missing_by_column(df, column_names)\n",
    "print(\"\\ndf count:\")\n",
    "df.count()"
   ]
  },
  {
   "cell_type": "markdown",
   "metadata": {},
   "source": [
    "### 3.8 Pre-modeling transforms"
   ]
  },
  {
   "cell_type": "markdown",
   "metadata": {},
   "source": [
    "#### 3.8.1 Dividing our dataset into data and target dataframes\n",
    "The data is split into data and target values."
   ]
  },
  {
   "cell_type": "code",
   "execution_count": 78,
   "metadata": {},
   "outputs": [
    {
     "name": "stdout",
     "output_type": "stream",
     "text": [
      "data shape:\t (899, 11)\n",
      "target shape:\t (899,)\n"
     ]
    }
   ],
   "source": [
    "df_target = (df[\"num\"] > 0).values\n",
    "df_data = df.drop(\"num\", axis=1)\n",
    "df_data = df_data.values\n",
    "\n",
    "print(\"data shape:\\t\", df_data.shape)\n",
    "print(\"target shape:\\t\", df_target.shape)"
   ]
  },
  {
   "cell_type": "markdown",
   "metadata": {},
   "source": [
    "#### 3.8.2 Shuffling x and y\n",
    "Our newly formed x and y (data and target) are shuffled with sklearns shuffle() function."
   ]
  },
  {
   "cell_type": "code",
   "execution_count": 79,
   "metadata": {},
   "outputs": [],
   "source": [
    "x, y = shuffle(df_data, df_target)"
   ]
  },
  {
   "cell_type": "markdown",
   "metadata": {},
   "source": [
    "#### 3.9.3 Scaling\n",
    "The sklearn StandardScaler is used to scale our data. The shape of the data is checked just in case."
   ]
  },
  {
   "cell_type": "code",
   "execution_count": 80,
   "metadata": {},
   "outputs": [
    {
     "name": "stdout",
     "output_type": "stream",
     "text": [
      "x.shape: (899, 11)\n",
      "y.shape: (899,)\n"
     ]
    },
    {
     "name": "stderr",
     "output_type": "stream",
     "text": [
      "W:\\Programs\\Anaconda3\\envs\\ml\\lib\\site-packages\\sklearn\\utils\\validation.py:475: DataConversionWarning: Data with input dtype object was converted to float64 by StandardScaler.\n",
      "  warnings.warn(msg, DataConversionWarning)\n"
     ]
    }
   ],
   "source": [
    "scaler = StandardScaler()\n",
    "x = scaler.fit_transform(x)\n",
    "print(\"x.shape:\", x.shape)\n",
    "print(\"y.shape:\", y.shape)"
   ]
  },
  {
   "cell_type": "markdown",
   "metadata": {},
   "source": [
    "#### 3.9.4 Final split\n",
    "Finally our dataset is split into training and validation sets with a ratio of 65/35. Note, that this split is only valid for the single model test. A kfold-validated model will be contructed later on."
   ]
  },
  {
   "cell_type": "code",
   "execution_count": 81,
   "metadata": {},
   "outputs": [
    {
     "name": "stdout",
     "output_type": "stream",
     "text": [
      "x_train.shape: (584, 11)\n",
      "y_train.shape: (584,)\n",
      "x_val.shape: (315, 11)\n",
      "y_val.shape: (315,)\n"
     ]
    }
   ],
   "source": [
    "x_train, x_val, y_train, y_val = train_test_split(x, y, test_size=0.35)\n",
    "\n",
    "print(\"x_train.shape:\", x_train.shape)\n",
    "print(\"y_train.shape:\", y_train.shape)\n",
    "print(\"x_val.shape:\", x_val.shape)\n",
    "print(\"y_val.shape:\", y_val.shape)"
   ]
  },
  {
   "cell_type": "markdown",
   "metadata": {},
   "source": [
    "## 4 Singleshot model"
   ]
  },
  {
   "cell_type": "markdown",
   "metadata": {},
   "source": [
    "### 4.1 Defining and compiling our model\n",
    "A network with 3 hidden layers is chosen for the task at hand. The layer depths are kept minimal to keep the model's capacity from growing too large, while l2 regularization and mild dropout layers are employed to fight overfitting. Relu is our activation function of choice for all layers, except of course the output layer, which uses the sigmoid function to produce a probability value (something between 0 and 1). Naturally, the binary cross-entropy loss function was chosen for a single-labeled binary class task. RMSProp was chosen simply because it has proven to provide good results in other experiments."
   ]
  },
  {
   "cell_type": "code",
   "execution_count": 87,
   "metadata": {},
   "outputs": [],
   "source": [
    "cycles = 100\n",
    "\n",
    "model = keras.models.Sequential()\n",
    "model.add(keras.layers.Dense(8, activation = 'relu', kernel_regularizer=keras.regularizers.l2(0.01), input_dim = 11))\n",
    "keras.layers.Dropout(0.2)\n",
    "model.add(keras.layers.Dense(4, activation = 'relu', kernel_regularizer=keras.regularizers.l2(0.01)))\n",
    "keras.layers.Dropout(0.2)\n",
    "model.add(keras.layers.Dense(2, activation = 'relu', kernel_regularizer=keras.regularizers.l2(0.001)))\n",
    "keras.layers.Dropout(0.1)\n",
    "model.add(keras.layers.Dense(1, activation = 'sigmoid'))\n",
    "\n",
    "model.compile(loss = 'binary_crossentropy', optimizer = 'rmsprop', metrics = ['accuracy'])"
   ]
  },
  {
   "cell_type": "markdown",
   "metadata": {},
   "source": [
    "### 4.2 Training the model\n",
    "The model is trained for 100 epochs with a batch size of 8."
   ]
  },
  {
   "cell_type": "code",
   "execution_count": 88,
   "metadata": {},
   "outputs": [
    {
     "name": "stdout",
     "output_type": "stream",
     "text": [
      "Train on 720 samples, validate on 179 samples\n",
      "Epoch 1/100\n",
      "720/720 [==============================] - 1s 1ms/step - loss: 0.8513 - acc: 0.4444 - val_loss: 0.8295 - val_acc: 0.4134\n",
      "Epoch 2/100\n",
      "720/720 [==============================] - 0s 206us/step - loss: 0.8027 - acc: 0.5181 - val_loss: 0.7854 - val_acc: 0.5084\n",
      "Epoch 3/100\n",
      "720/720 [==============================] - 0s 211us/step - loss: 0.7644 - acc: 0.5417 - val_loss: 0.7466 - val_acc: 0.5698\n",
      "Epoch 4/100\n",
      "720/720 [==============================] - 0s 217us/step - loss: 0.7297 - acc: 0.5486 - val_loss: 0.7093 - val_acc: 0.5587\n",
      "Epoch 5/100\n",
      "720/720 [==============================] - 0s 211us/step - loss: 0.6970 - acc: 0.5500 - val_loss: 0.6734 - val_acc: 0.5587\n",
      "Epoch 6/100\n",
      "720/720 [==============================] - 0s 212us/step - loss: 0.6646 - acc: 0.5514 - val_loss: 0.6336 - val_acc: 0.5866\n",
      "Epoch 7/100\n",
      "720/720 [==============================] - 0s 244us/step - loss: 0.6273 - acc: 0.7361 - val_loss: 0.5901 - val_acc: 0.7989\n",
      "Epoch 8/100\n",
      "720/720 [==============================] - 0s 250us/step - loss: 0.5902 - acc: 0.7889 - val_loss: 0.5521 - val_acc: 0.7933\n",
      "Epoch 9/100\n",
      "720/720 [==============================] - 0s 239us/step - loss: 0.5603 - acc: 0.7917 - val_loss: 0.5210 - val_acc: 0.7989\n",
      "Epoch 10/100\n",
      "720/720 [==============================] - 0s 261us/step - loss: 0.5368 - acc: 0.7944 - val_loss: 0.4979 - val_acc: 0.7989\n",
      "Epoch 11/100\n",
      "720/720 [==============================] - 0s 217us/step - loss: 0.5202 - acc: 0.7972 - val_loss: 0.4846 - val_acc: 0.8045\n",
      "Epoch 12/100\n",
      "720/720 [==============================] - 0s 237us/step - loss: 0.5097 - acc: 0.7972 - val_loss: 0.4767 - val_acc: 0.8045\n",
      "Epoch 13/100\n",
      "720/720 [==============================] - 0s 217us/step - loss: 0.5031 - acc: 0.7944 - val_loss: 0.4717 - val_acc: 0.8101\n",
      "Epoch 14/100\n",
      "720/720 [==============================] - 0s 250us/step - loss: 0.4988 - acc: 0.7972 - val_loss: 0.4683 - val_acc: 0.8101\n",
      "Epoch 15/100\n",
      "720/720 [==============================] - 0s 289us/step - loss: 0.4954 - acc: 0.7972 - val_loss: 0.4660 - val_acc: 0.8156\n",
      "Epoch 16/100\n",
      "720/720 [==============================] - 0s 233us/step - loss: 0.4928 - acc: 0.8014 - val_loss: 0.4647 - val_acc: 0.8101\n",
      "Epoch 17/100\n",
      "720/720 [==============================] - 0s 250us/step - loss: 0.4907 - acc: 0.7972 - val_loss: 0.4634 - val_acc: 0.8101\n",
      "Epoch 18/100\n",
      "720/720 [==============================] - 0s 217us/step - loss: 0.4885 - acc: 0.7944 - val_loss: 0.4615 - val_acc: 0.8101\n",
      "Epoch 19/100\n",
      "720/720 [==============================] - 0s 222us/step - loss: 0.4873 - acc: 0.8000 - val_loss: 0.4601 - val_acc: 0.8156\n",
      "Epoch 20/100\n",
      "720/720 [==============================] - 0s 224us/step - loss: 0.4859 - acc: 0.7986 - val_loss: 0.4598 - val_acc: 0.8156\n",
      "Epoch 21/100\n",
      "720/720 [==============================] - 0s 226us/step - loss: 0.4845 - acc: 0.8000 - val_loss: 0.4587 - val_acc: 0.8212\n",
      "Epoch 22/100\n",
      "720/720 [==============================] - 0s 208us/step - loss: 0.4836 - acc: 0.7958 - val_loss: 0.4569 - val_acc: 0.8324\n",
      "Epoch 23/100\n",
      "720/720 [==============================] - 0s 222us/step - loss: 0.4816 - acc: 0.7986 - val_loss: 0.4577 - val_acc: 0.8101\n",
      "Epoch 24/100\n",
      "720/720 [==============================] - 0s 228us/step - loss: 0.4807 - acc: 0.7972 - val_loss: 0.4550 - val_acc: 0.8324\n",
      "Epoch 25/100\n",
      "720/720 [==============================] - 0s 233us/step - loss: 0.4790 - acc: 0.7958 - val_loss: 0.4542 - val_acc: 0.8268\n",
      "Epoch 26/100\n",
      "720/720 [==============================] - 0s 256us/step - loss: 0.4788 - acc: 0.7972 - val_loss: 0.4529 - val_acc: 0.8268\n",
      "Epoch 27/100\n",
      "720/720 [==============================] - 0s 223us/step - loss: 0.4774 - acc: 0.7958 - val_loss: 0.4518 - val_acc: 0.8268\n",
      "Epoch 28/100\n",
      "720/720 [==============================] - 0s 230us/step - loss: 0.4759 - acc: 0.7972 - val_loss: 0.4528 - val_acc: 0.8156\n",
      "Epoch 29/100\n",
      "720/720 [==============================] - 0s 233us/step - loss: 0.4755 - acc: 0.7986 - val_loss: 0.4503 - val_acc: 0.8380\n",
      "Epoch 30/100\n",
      "720/720 [==============================] - 0s 260us/step - loss: 0.4749 - acc: 0.7958 - val_loss: 0.4492 - val_acc: 0.8380\n",
      "Epoch 31/100\n",
      "720/720 [==============================] - 0s 267us/step - loss: 0.4730 - acc: 0.7972 - val_loss: 0.4494 - val_acc: 0.8268\n",
      "Epoch 32/100\n",
      "720/720 [==============================] - 0s 285us/step - loss: 0.4723 - acc: 0.7931 - val_loss: 0.4461 - val_acc: 0.8268\n",
      "Epoch 33/100\n",
      "720/720 [==============================] - 0s 304us/step - loss: 0.4712 - acc: 0.7986 - val_loss: 0.4463 - val_acc: 0.8212\n",
      "Epoch 34/100\n",
      "720/720 [==============================] - 0s 283us/step - loss: 0.4699 - acc: 0.8042 - val_loss: 0.4491 - val_acc: 0.8212\n",
      "Epoch 35/100\n",
      "720/720 [==============================] - 0s 344us/step - loss: 0.4693 - acc: 0.7931 - val_loss: 0.4437 - val_acc: 0.8268\n",
      "Epoch 36/100\n",
      "720/720 [==============================] - 0s 306us/step - loss: 0.4693 - acc: 0.7986 - val_loss: 0.4430 - val_acc: 0.8324\n",
      "Epoch 37/100\n",
      "720/720 [==============================] - 0s 300us/step - loss: 0.4685 - acc: 0.8028 - val_loss: 0.4425 - val_acc: 0.8324\n",
      "Epoch 38/100\n",
      "720/720 [==============================] - 0s 300us/step - loss: 0.4675 - acc: 0.8014 - val_loss: 0.4439 - val_acc: 0.8324\n",
      "Epoch 39/100\n",
      "720/720 [==============================] - 0s 294us/step - loss: 0.4665 - acc: 0.8042 - val_loss: 0.4449 - val_acc: 0.8268\n",
      "Epoch 40/100\n",
      "720/720 [==============================] - 0s 294us/step - loss: 0.4656 - acc: 0.8000 - val_loss: 0.4486 - val_acc: 0.8212\n",
      "Epoch 41/100\n",
      "720/720 [==============================] - 0s 306us/step - loss: 0.4655 - acc: 0.8000 - val_loss: 0.4454 - val_acc: 0.8268\n",
      "Epoch 42/100\n",
      "720/720 [==============================] - 0s 292us/step - loss: 0.4642 - acc: 0.8000 - val_loss: 0.4409 - val_acc: 0.8324\n",
      "Epoch 43/100\n",
      "720/720 [==============================] - 0s 289us/step - loss: 0.4642 - acc: 0.7986 - val_loss: 0.4408 - val_acc: 0.8324\n",
      "Epoch 44/100\n",
      "720/720 [==============================] - 0s 294us/step - loss: 0.4633 - acc: 0.8014 - val_loss: 0.4437 - val_acc: 0.8268\n",
      "Epoch 45/100\n",
      "720/720 [==============================] - 0s 294us/step - loss: 0.4633 - acc: 0.8028 - val_loss: 0.4414 - val_acc: 0.8268\n",
      "Epoch 46/100\n",
      "720/720 [==============================] - 0s 278us/step - loss: 0.4618 - acc: 0.8042 - val_loss: 0.4403 - val_acc: 0.8268\n",
      "Epoch 47/100\n",
      "720/720 [==============================] - 0s 272us/step - loss: 0.4614 - acc: 0.8028 - val_loss: 0.4373 - val_acc: 0.8324\n",
      "Epoch 48/100\n",
      "720/720 [==============================] - 0s 267us/step - loss: 0.4609 - acc: 0.8028 - val_loss: 0.4389 - val_acc: 0.8268\n",
      "Epoch 49/100\n",
      "720/720 [==============================] - 0s 272us/step - loss: 0.4604 - acc: 0.8042 - val_loss: 0.4398 - val_acc: 0.8268\n",
      "Epoch 50/100\n",
      "720/720 [==============================] - 0s 294us/step - loss: 0.4593 - acc: 0.8069 - val_loss: 0.4403 - val_acc: 0.8268\n",
      "Epoch 51/100\n",
      "720/720 [==============================] - 0s 289us/step - loss: 0.4599 - acc: 0.8069 - val_loss: 0.4378 - val_acc: 0.8268\n",
      "Epoch 52/100\n",
      "720/720 [==============================] - 0s 244us/step - loss: 0.4592 - acc: 0.8097 - val_loss: 0.4371 - val_acc: 0.8324\n",
      "Epoch 53/100\n",
      "720/720 [==============================] - 0s 217us/step - loss: 0.4579 - acc: 0.8069 - val_loss: 0.4387 - val_acc: 0.8268\n",
      "Epoch 54/100\n",
      "720/720 [==============================] - 0s 200us/step - loss: 0.4580 - acc: 0.8056 - val_loss: 0.4380 - val_acc: 0.8268\n",
      "Epoch 55/100\n",
      "720/720 [==============================] - 0s 200us/step - loss: 0.4572 - acc: 0.8097 - val_loss: 0.4365 - val_acc: 0.8268\n",
      "Epoch 56/100\n",
      "720/720 [==============================] - 0s 211us/step - loss: 0.4569 - acc: 0.8167 - val_loss: 0.4355 - val_acc: 0.8324\n",
      "Epoch 57/100\n",
      "720/720 [==============================] - 0s 191us/step - loss: 0.4563 - acc: 0.8069 - val_loss: 0.4333 - val_acc: 0.8268\n",
      "Epoch 58/100\n",
      "720/720 [==============================] - 0s 222us/step - loss: 0.4554 - acc: 0.8111 - val_loss: 0.4318 - val_acc: 0.8324\n",
      "Epoch 59/100\n",
      "720/720 [==============================] - 0s 256us/step - loss: 0.4553 - acc: 0.8111 - val_loss: 0.4337 - val_acc: 0.8212\n",
      "Epoch 60/100\n",
      "720/720 [==============================] - 0s 206us/step - loss: 0.4540 - acc: 0.8083 - val_loss: 0.4311 - val_acc: 0.8212\n"
     ]
    },
    {
     "name": "stdout",
     "output_type": "stream",
     "text": [
      "Epoch 61/100\n",
      "720/720 [==============================] - 0s 199us/step - loss: 0.4529 - acc: 0.8097 - val_loss: 0.4354 - val_acc: 0.8324\n",
      "Epoch 62/100\n",
      "720/720 [==============================] - 0s 244us/step - loss: 0.4526 - acc: 0.8042 - val_loss: 0.4322 - val_acc: 0.8324\n",
      "Epoch 63/100\n",
      "720/720 [==============================] - 0s 300us/step - loss: 0.4521 - acc: 0.8139 - val_loss: 0.4283 - val_acc: 0.8268\n",
      "Epoch 64/100\n",
      "720/720 [==============================] - 0s 224us/step - loss: 0.4518 - acc: 0.8111 - val_loss: 0.4325 - val_acc: 0.8268\n",
      "Epoch 65/100\n",
      "720/720 [==============================] - 0s 236us/step - loss: 0.4507 - acc: 0.8097 - val_loss: 0.4308 - val_acc: 0.8324\n",
      "Epoch 66/100\n",
      "720/720 [==============================] - 0s 228us/step - loss: 0.4506 - acc: 0.8111 - val_loss: 0.4314 - val_acc: 0.8324\n",
      "Epoch 67/100\n",
      "720/720 [==============================] - 0s 238us/step - loss: 0.4508 - acc: 0.8125 - val_loss: 0.4310 - val_acc: 0.8268\n",
      "Epoch 68/100\n",
      "720/720 [==============================] - 0s 250us/step - loss: 0.4488 - acc: 0.8111 - val_loss: 0.4351 - val_acc: 0.8268\n",
      "Epoch 69/100\n",
      "720/720 [==============================] - 0s 272us/step - loss: 0.4498 - acc: 0.8097 - val_loss: 0.4332 - val_acc: 0.8212\n",
      "Epoch 70/100\n",
      "720/720 [==============================] - 0s 217us/step - loss: 0.4498 - acc: 0.8069 - val_loss: 0.4306 - val_acc: 0.8268\n",
      "Epoch 71/100\n",
      "720/720 [==============================] - 0s 209us/step - loss: 0.4484 - acc: 0.8153 - val_loss: 0.4311 - val_acc: 0.8212\n",
      "Epoch 72/100\n",
      "720/720 [==============================] - 0s 200us/step - loss: 0.4487 - acc: 0.8125 - val_loss: 0.4345 - val_acc: 0.8212\n",
      "Epoch 73/100\n",
      "720/720 [==============================] - 0s 256us/step - loss: 0.4482 - acc: 0.8125 - val_loss: 0.4353 - val_acc: 0.8212\n",
      "Epoch 74/100\n",
      "720/720 [==============================] - 0s 272us/step - loss: 0.4480 - acc: 0.8139 - val_loss: 0.4359 - val_acc: 0.8156\n",
      "Epoch 75/100\n",
      "720/720 [==============================] - 0s 274us/step - loss: 0.4476 - acc: 0.8139 - val_loss: 0.4328 - val_acc: 0.8156\n",
      "Epoch 76/100\n",
      "720/720 [==============================] - 0s 206us/step - loss: 0.4470 - acc: 0.8083 - val_loss: 0.4338 - val_acc: 0.8156\n",
      "Epoch 77/100\n",
      "720/720 [==============================] - 0s 229us/step - loss: 0.4460 - acc: 0.8153 - val_loss: 0.4381 - val_acc: 0.8212\n",
      "Epoch 78/100\n",
      "720/720 [==============================] - 0s 210us/step - loss: 0.4471 - acc: 0.8111 - val_loss: 0.4322 - val_acc: 0.8212\n",
      "Epoch 79/100\n",
      "720/720 [==============================] - 0s 222us/step - loss: 0.4466 - acc: 0.8153 - val_loss: 0.4334 - val_acc: 0.8212\n",
      "Epoch 80/100\n",
      "720/720 [==============================] - 0s 256us/step - loss: 0.4456 - acc: 0.8167 - val_loss: 0.4326 - val_acc: 0.8156\n",
      "Epoch 81/100\n",
      "720/720 [==============================] - 0s 228us/step - loss: 0.4458 - acc: 0.8125 - val_loss: 0.4321 - val_acc: 0.8212\n",
      "Epoch 82/100\n",
      "720/720 [==============================] - 0s 218us/step - loss: 0.4454 - acc: 0.8153 - val_loss: 0.4323 - val_acc: 0.8212\n",
      "Epoch 83/100\n",
      "720/720 [==============================] - 0s 197us/step - loss: 0.4450 - acc: 0.8139 - val_loss: 0.4293 - val_acc: 0.8380\n",
      "Epoch 84/100\n",
      "720/720 [==============================] - 0s 219us/step - loss: 0.4449 - acc: 0.8167 - val_loss: 0.4295 - val_acc: 0.8268\n",
      "Epoch 85/100\n",
      "720/720 [==============================] - 0s 216us/step - loss: 0.4451 - acc: 0.8153 - val_loss: 0.4311 - val_acc: 0.8268\n",
      "Epoch 86/100\n",
      "720/720 [==============================] - 0s 231us/step - loss: 0.4444 - acc: 0.8125 - val_loss: 0.4328 - val_acc: 0.8212\n",
      "Epoch 87/100\n",
      "720/720 [==============================] - 0s 216us/step - loss: 0.4445 - acc: 0.8181 - val_loss: 0.4305 - val_acc: 0.8268\n",
      "Epoch 88/100\n",
      "720/720 [==============================] - 0s 217us/step - loss: 0.4439 - acc: 0.8139 - val_loss: 0.4290 - val_acc: 0.8324\n",
      "Epoch 89/100\n",
      "720/720 [==============================] - 0s 212us/step - loss: 0.4434 - acc: 0.8208 - val_loss: 0.4318 - val_acc: 0.8156\n",
      "Epoch 90/100\n",
      "720/720 [==============================] - 0s 211us/step - loss: 0.4433 - acc: 0.8167 - val_loss: 0.4296 - val_acc: 0.8380\n",
      "Epoch 91/100\n",
      "720/720 [==============================] - 0s 227us/step - loss: 0.4433 - acc: 0.8153 - val_loss: 0.4306 - val_acc: 0.8380\n",
      "Epoch 92/100\n",
      "720/720 [==============================] - 0s 222us/step - loss: 0.4426 - acc: 0.8153 - val_loss: 0.4331 - val_acc: 0.8212\n",
      "Epoch 93/100\n",
      "720/720 [==============================] - 0s 223us/step - loss: 0.4435 - acc: 0.8167 - val_loss: 0.4300 - val_acc: 0.8380\n",
      "Epoch 94/100\n",
      "720/720 [==============================] - 0s 203us/step - loss: 0.4427 - acc: 0.8181 - val_loss: 0.4295 - val_acc: 0.8324\n",
      "Epoch 95/100\n",
      "720/720 [==============================] - 0s 213us/step - loss: 0.4419 - acc: 0.8236 - val_loss: 0.4335 - val_acc: 0.8268\n",
      "Epoch 96/100\n",
      "720/720 [==============================] - 0s 222us/step - loss: 0.4422 - acc: 0.8153 - val_loss: 0.4347 - val_acc: 0.8268\n",
      "Epoch 97/100\n",
      "720/720 [==============================] - 0s 217us/step - loss: 0.4425 - acc: 0.8167 - val_loss: 0.4357 - val_acc: 0.8212\n",
      "Epoch 98/100\n",
      "720/720 [==============================] - 0s 211us/step - loss: 0.4414 - acc: 0.8250 - val_loss: 0.4325 - val_acc: 0.8268\n",
      "Epoch 99/100\n",
      "720/720 [==============================] - 0s 250us/step - loss: 0.4423 - acc: 0.8167 - val_loss: 0.4300 - val_acc: 0.8324\n",
      "Epoch 100/100\n",
      "720/720 [==============================] - 0s 272us/step - loss: 0.4418 - acc: 0.8194 - val_loss: 0.4336 - val_acc: 0.8268\n"
     ]
    }
   ],
   "source": [
    "hist = model.fit(x_train, y_train, validation_data=(x_val, y_val), epochs=cycles, batch_size=8, verbose=1)"
   ]
  },
  {
   "cell_type": "markdown",
   "metadata": {},
   "source": [
    "##### The model is saved to disk for later use"
   ]
  },
  {
   "cell_type": "code",
   "execution_count": 100,
   "metadata": {},
   "outputs": [],
   "source": [
    "model.save(\"C:\\\\Users\\\\micromikko\\\\AnacondaProjects\\\\models\\\\heart-disease-single.h5\")"
   ]
  },
  {
   "cell_type": "markdown",
   "metadata": {},
   "source": [
    "### 4.3 Evaluation\n",
    "The evaluation metrics are calculated for the validation set and the results are plotted.\n",
    "<br><br>\n",
    "For our small sample size, the model is surprisingly accurate, reaching a score of 82.68% on the validation set. After roughly 10 epochs, the training started to give increasingly diminishing returns, but the model's hyper-parameters and the techniques to fight overfitting were chosed fairly well, as can be seen from the second graph. A fine line between over and underfitting seems to be reached."
   ]
  },
  {
   "cell_type": "code",
   "execution_count": 89,
   "metadata": {},
   "outputs": [
    {
     "name": "stdout",
     "output_type": "stream",
     "text": [
      "179/179 [==============================] - 0s 67us/step\n",
      "['loss', 'acc']\n",
      "[0.43359979604209603, 0.8268156437900479]\n"
     ]
    }
   ],
   "source": [
    "eval = model.evaluate(x_val, y_val)\n",
    "print(model.metrics_names)\n",
    "print(eval)"
   ]
  },
  {
   "cell_type": "code",
   "execution_count": 90,
   "metadata": {},
   "outputs": [
    {
     "data": {
      "image/png": "[encoded data removed]",
      "text/plain": [
       "<matplotlib.figure.Figure at 0x2a30efa6320>"
      ]
     },
     "metadata": {},
     "output_type": "display_data"
    },
    {
     "data": {
      "image/png": "[encoded data removed]",
      "text/plain": [
       "<matplotlib.figure.Figure at 0x2a30efcd3c8>"
      ]
     },
     "metadata": {},
     "output_type": "display_data"
    }
   ],
   "source": [
    "loss = hist.history['loss']\n",
    "val_loss = hist.history['val_loss']\n",
    "acc = hist.history['acc']\n",
    "val_acc = hist.history['val_acc']\n",
    "epochs = range(1, len(acc) + 1)\n",
    "\n",
    "plt.figure()\n",
    "plt.plot(epochs, loss, 'r', label='Training loss')\n",
    "plt.plot(epochs, val_loss, 'b', label='Validation loss')\n",
    "plt.title('Training and validation loss')\n",
    "plt.legend()\n",
    "\n",
    "plt.figure()\n",
    "\n",
    "plt.plot(epochs, acc, 'r', label='Training acc')\n",
    "plt.plot(epochs, val_acc, 'b', label='Validation val_acc')\n",
    "plt.title('Training and validation acc')\n",
    "plt.legend()\n",
    "\n",
    "\n",
    "plt.show()"
   ]
  },
  {
   "cell_type": "markdown",
   "metadata": {},
   "source": [
    "## 5 K-folded model"
   ]
  },
  {
   "cell_type": "markdown",
   "metadata": {},
   "source": [
    "### 5.1 Defining and training our k-folded model\n",
    "Since our data set is fairly limited in size, k-folding will be employed to \"stretch\" to gain a little more mileage from the data set. It will proceed as follows:\n",
    "<br>\n",
    "1. Split data into validation and training sets for the loop based on the loop counter.\n",
    "2. The creation of a new model each time the loop runs will ensure that no residual values are left in the network.\n",
    "3. The validation set's loss and accuracy are collected into a list for further use.\n",
    "<br><br>\n",
    "\n",
    "A k of 3 is selected since this way roughly 66% of the data is used for training and 33% is used for validation in each fold. After experimentation a model of the same capacity as with the single shot model seems to work pretty well."
   ]
  },
  {
   "cell_type": "code",
   "execution_count": 95,
   "metadata": {},
   "outputs": [
    {
     "name": "stdout",
     "output_type": "stream",
     "text": [
      "processing fold # 0 ...\n",
      "299/299 [==============================] - 0s 72us/step\n",
      "fold # 0 complete!\n",
      "\n",
      "processing fold # 1 ...\n",
      "299/299 [==============================] - 0s 40us/step\n",
      "fold # 1 complete!\n",
      "\n",
      "processing fold # 2 ...\n",
      "299/299 [==============================] - 0s 57us/step\n",
      "fold # 2 complete!\n",
      "\n"
     ]
    }
   ],
   "source": [
    "k = 3\n",
    "val_size = len(x) // k;\n",
    "\n",
    "all_loss_histories = []\n",
    "all_acc_histories = []\n",
    "\n",
    "all_val_loss_histories = []\n",
    "all_val_acc_histories = []\n",
    "\n",
    "evaluation = []\n",
    "\n",
    "for i in range(k):\n",
    "\tprint(\"processing fold #\", i, \"...\")\n",
    "\t\n",
    "\tx_val = x[i * val_size: (i+1) * val_size]\n",
    "\ty_val = y[i * val_size: (i+1) * val_size]\n",
    "\n",
    "\tx_train = np.concatenate([x[: i * val_size], x[(i+1) * val_size :]])\n",
    "\ty_train = np.concatenate([y[: i * val_size], y[(i+1) * val_size :]])\n",
    "\n",
    "\tmodel = keras.models.Sequential()\n",
    "\tmodel.add(keras.layers.Dense(8, activation = 'relu', kernel_regularizer=keras.regularizers.l2(0.01), input_dim = 11))\n",
    "\tkeras.layers.Dropout(0.1)\n",
    "\tmodel.add(keras.layers.Dense(3, activation = 'relu', kernel_regularizer=keras.regularizers.l2(0.01)))\n",
    "\tkeras.layers.Dropout(0.2)\n",
    "\tmodel.add(keras.layers.Dense(2, activation = 'relu', kernel_regularizer=keras.regularizers.l2(0.01)))\n",
    "\tkeras.layers.Dropout(0.4)\n",
    "\tmodel.add(keras.layers.Dense(1, activation = 'sigmoid'))\n",
    "\n",
    "\tmodel.compile(loss = 'binary_crossentropy', optimizer = 'rmsprop', metrics = ['accuracy'])\n",
    "\thist = model.fit(x_train, y_train, validation_data=(x_val, y_val), epochs=cycles, batch_size=8, verbose=0)\n",
    "\t\n",
    "\tloss = hist.history['loss']\n",
    "\tval_loss = hist.history['val_loss']\n",
    "\tacc = hist.history['acc']\n",
    "\tval_acc = hist.history['val_acc']\n",
    "\tepochs = range(1, len(acc) + 1)\n",
    "\t\n",
    "\tall_loss_histories.append(loss)\n",
    "\tall_acc_histories.append(acc)\n",
    "\t\n",
    "\tall_val_loss_histories.append(val_loss)\n",
    "\tall_val_acc_histories.append(val_acc)\n",
    "\t\n",
    "\tevaluation.append(model.evaluate(x_val, y_val))\n",
    "\t\n",
    "\tprint(\"fold #\", i, \"complete!\\n\")\n"
   ]
  },
  {
   "cell_type": "markdown",
   "metadata": {},
   "source": [
    "##### The model is saved to disk for later use"
   ]
  },
  {
   "cell_type": "code",
   "execution_count": 99,
   "metadata": {},
   "outputs": [],
   "source": [
    "model.save(\"C:\\\\Users\\\\micromikko\\\\AnacondaProjects\\\\models\\\\heart-disease-kfold.h5\")"
   ]
  },
  {
   "cell_type": "markdown",
   "metadata": {},
   "source": [
    "### 5.2 Evaluation\n",
    "The results of our k-folded model are to be considered more trustworthy than the single shot model's, since it iterates over the data set several times and averages its results. The 79.82% accuracy is not far from our previous score, and stands on its own right as a pretty decent accuracy rating. Examining the plots reveal that the model does seem to start to increasingly overfit to the training data after roughly 60 epochs. Several different iterations of the model were tried, but about 80% accuracy was the best score achieved with any version. More aggressive dropouts, regularizations and smaller "
   ]
  },
  {
   "cell_type": "code",
   "execution_count": 96,
   "metadata": {
    "scrolled": true
   },
   "outputs": [
    {
     "name": "stdout",
     "output_type": "stream",
     "text": [
      "[0.49433076969755935, 0.79821627654359484]\n",
      "['loss', 'acc']\n"
     ]
    }
   ],
   "source": [
    "average_eval = [np.mean([x[i] for x in evaluation]) for i in range(2)]\n",
    "print(average_eval)\n",
    "print(model.metrics_names)"
   ]
  },
  {
   "cell_type": "code",
   "execution_count": 97,
   "metadata": {},
   "outputs": [],
   "source": [
    "average_loss_history = [np.mean([x[i] for x in all_loss_histories]) for i in range(cycles)]\n",
    "average_acc_history = [np.mean([x[i] for x in all_acc_histories]) for i in range(cycles)]\n",
    "\n",
    "average_val_loss_history = [np.mean([x[i] for x in all_val_loss_histories]) for i in range(cycles)]\n",
    "average_val_acc_history = [np.mean([x[i] for x in all_val_acc_histories]) for i in range(cycles)]"
   ]
  },
  {
   "cell_type": "code",
   "execution_count": 98,
   "metadata": {},
   "outputs": [
    {
     "data": {
      "image/png": "[encoded data removed]",
      "text/plain": [
       "<matplotlib.figure.Figure at 0x2a314af2828>"
      ]
     },
     "metadata": {},
     "output_type": "display_data"
    },
    {
     "data": {
      "image/png": "[encoded data removed]",
      "text/plain": [
       "<matplotlib.figure.Figure at 0x2a317ae48d0>"
      ]
     },
     "metadata": {},
     "output_type": "display_data"
    }
   ],
   "source": [
    "plt.figure()\n",
    "plt.plot(epochs, average_loss_history, 'r', label='Training loss')\n",
    "plt.plot(epochs, average_val_loss_history, 'b', label='Validation loss')\n",
    "plt.title('k-folded training and validation loss')\n",
    "plt.legend()\n",
    "\n",
    "plt.figure()\n",
    "\n",
    "plt.plot(epochs, average_acc_history, 'r', label='Training acc')\n",
    "plt.plot(epochs, average_val_acc_history, 'b', label='Validation acc')\n",
    "plt.title('k-folded training and validation acc')\n",
    "plt.legend()\n",
    "\n",
    "\n",
    "plt.show()"
   ]
  },
  {
   "cell_type": "markdown",
   "metadata": {},
   "source": [
    "## 6 Conclusions\n",
    "I would say that the primary objective of this assignment, which was to create a deep neural network capable of predicting heart disease in a patient, was achieved surprisingly well. With both models reaching a roughly 80% detection accuracy, the models can be said to be improvements over 50/50 random guessing without a doubt, with a 60% relative inrease to arbitrary guessing. The model could be used as a quick and easy-to-use guideline to suggest whether or not a patient might be at risk of heart disease.\n",
    "<br><br>\n",
    "The secondary goal of the case was to get to know the available tools better, which was also achieved. Even though I didn't employ but a few scikit-learn modules in this project, I am intrigued to dig deeper into their extensive libraries to find out what more there is to use. Pandas dataframe manipulation is still a pain and can feel somewhat counter-intuitive, but I think some improvement has been made in that department, too."
   ]
  }
 ],
 "metadata": {
  "kernelspec": {
   "display_name": "Python 3",
   "language": "python",
   "name": "python3"
  },
  "language_info": {
   "codemirror_mode": {
    "name": "ipython",
    "version": 3
   },
   "file_extension": ".py",
   "mimetype": "text/x-python",
   "name": "python",
   "nbconvert_exporter": "python",
   "pygments_lexer": "ipython3",
   "version": "3.5.4"
  }
 },
 "nbformat": 4,
 "nbformat_minor": 2
}
