{
 "cells": [
  {
   "cell_type": "markdown",
   "metadata": {},
   "source": [
    "Mikko Peltola"
   ]
  },
  {
   "cell_type": "markdown",
   "metadata": {},
   "source": [
    "---\n",
    "# Methods 3 - Decision tree"
   ]
  },
  {
   "cell_type": "markdown",
   "metadata": {},
   "source": [
    "---\n",
    "## Libraries"
   ]
  },
  {
   "cell_type": "code",
   "execution_count": 1,
   "metadata": {
    "collapsed": false
   },
   "outputs": [],
   "source": [
    "import numpy as np\n",
    "import pandas as pd\n",
    "import matplotlib.pyplot as plt\n",
    "from sklearn import tree\n",
    "from sklearn.metrics import accuracy_score\n",
    "from sklearn.metrics import confusion_matrix\n",
    "from sklearn.tree import DecisionTreeClassifier\n",
    "from sklearn.model_selection import train_test_split\n",
    "import graphviz"
   ]
  },
  {
   "cell_type": "markdown",
   "metadata": {},
   "source": [
    "---\n",
    "## Loading data"
   ]
  },
  {
   "cell_type": "code",
   "execution_count": 2,
   "metadata": {
    "collapsed": false
   },
   "outputs": [
    {
     "name": "stdout",
     "output_type": "stream",
     "text": [
      "df shape: (11055, 31)\n"
     ]
    }
   ],
   "source": [
    "df = pd.read_csv(\"C:\\\\Users\\\\micromikko\\\\AnacondaProjects\\\\data\\\\phishing.csv\", sep=\";\")\n",
    "print(\"df shape:\", df.shape)"
   ]
  },
  {
   "cell_type": "markdown",
   "metadata": {},
   "source": [
    "---\n",
    "## Target column separated from other data\n",
    "Also, column names are stored in a variable for later use."
   ]
  },
  {
   "cell_type": "code",
   "execution_count": 3,
   "metadata": {
    "collapsed": false
   },
   "outputs": [
    {
     "name": "stdout",
     "output_type": "stream",
     "text": [
      "x shape: (11055, 30)\n",
      "t shape: (11055,)\n"
     ]
    }
   ],
   "source": [
    "x = df.drop(\"Result\", axis=1)\n",
    "y = df[\"Result\"]\n",
    "\n",
    "print(\"x shape:\", x.shape)\n",
    "print(\"t shape:\", y.shape)\n",
    "\n",
    "column_names = list(x)"
   ]
  },
  {
   "cell_type": "markdown",
   "metadata": {},
   "source": [
    "---\n",
    "## Splitting data into training and validation sets\n",
    "The data set is split with a train/validation ratio of 80/20 and shuffled."
   ]
  },
  {
   "cell_type": "code",
   "execution_count": 4,
   "metadata": {
    "collapsed": false
   },
   "outputs": [
    {
     "name": "stdout",
     "output_type": "stream",
     "text": [
      "x_train shape: (8844, 30)\n",
      "y_train shape: (8844,) \n",
      "\n",
      "x_val shape: (2211, 30)\n",
      "y_val shape: (2211,)\n"
     ]
    }
   ],
   "source": [
    "x_train, x_val, y_train, y_val = train_test_split(x, y, test_size=0.2, shuffle=True)\n",
    "\n",
    "print(\"x_train shape:\", x_train.shape)\n",
    "print(\"y_train shape:\", y_train.shape, \"\\n\")\n",
    "print(\"x_val shape:\", x_val.shape)\n",
    "print(\"y_val shape:\", y_val.shape)"
   ]
  },
  {
   "cell_type": "markdown",
   "metadata": {},
   "source": [
    "---\n",
    "## Creating the classifier and training the model\n",
    "A maximum depth of 3 was selected in order to keep the resulting tree manageable, \n",
    "as even a depth of 4 produces a rather large tree with twice the amount of nodes\n",
    "as one with a depth of 3.<br>"
   ]
  },
  {
   "cell_type": "code",
   "execution_count": 5,
   "metadata": {
    "collapsed": false
   },
   "outputs": [],
   "source": [
    "classifier = DecisionTreeClassifier(splitter=\"best\", max_depth=5, class_weight=\"balanced\", min_samples_leaf=50, min_impurity_decrease=0.01)\n",
    "result = classifier.fit(x_train, y_train)"
   ]
  },
  {
   "cell_type": "markdown",
   "metadata": {},
   "source": [
    "---\n",
    "## Predicting results using the validation data x_val"
   ]
  },
  {
   "cell_type": "code",
   "execution_count": 6,
   "metadata": {
    "collapsed": false
   },
   "outputs": [],
   "source": [
    "y_pred = classifier.predict(x_val)"
   ]
  },
  {
   "cell_type": "markdown",
   "metadata": {},
   "source": [
    "---\n",
    "## Accuracy estimate of decision tree\n",
    "\n",
    "Even with a tree depth of 1, an accuracy of over 85% was achieved with \n",
    "SSLfinal_State being most crucial out of all variables. If the tree depth limit\n",
    "was removed, the maximum accuracy peaked at roughly 97% if no other parameters\n",
    "were changed, but this of course provided a model that was grossly overfitted to \n",
    "the data.<br><br>\n",
    "\n",
    "A tree depth of 3 was ultimately chosen, because it consistently provides a model\n",
    "with over 90% accuracy. It also leaves enough room to generalize well to new data, \n",
    "which must ultimately be the purpose of a model. This is especially true since \n",
    "the model is to be used as a tool in a working environment by an analyst to help \n",
    "with threat assesments. It can provide guidance, but ultimately it is up to \n",
    "the expert to make the decision.<br><br>\n",
    "Also, instructions are best kept simple and short enough to facilitate understanding."
   ]
  },
  {
   "cell_type": "code",
   "execution_count": 7,
   "metadata": {
    "collapsed": false
   },
   "outputs": [
    {
     "name": "stdout",
     "output_type": "stream",
     "text": [
      "Accuracy of model: 91.04 %\n",
      "\n",
      "Confusion matrix:\n",
      " [[ 857   99]\n",
      " [  99 1156]]\n"
     ]
    }
   ],
   "source": [
    "acc = accuracy_score(y_val, y_pred)\n",
    "acc_rounded = round(acc, 4) * 100\n",
    "print(\"Accuracy of model:\", acc_rounded, \"%\\n\")\n",
    "\n",
    "conf_matrix = confusion_matrix(y_val, y_pred)\n",
    "print(\"Confusion matrix:\\n\", conf_matrix)"
   ]
  },
  {
   "cell_type": "markdown",
   "metadata": {},
   "source": [
    "---\n",
    "## Graphing model"
   ]
  },
  {
   "cell_type": "code",
   "execution_count": 8,
   "metadata": {
    "collapsed": false
   },
   "outputs": [
    {
     "data": {
      "image/svg+xml": [
       "<?xml version=\"1.0\" encoding=\"UTF-8\" standalone=\"no\"?>\r\n",
       "<!DOCTYPE svg PUBLIC \"-//W3C//DTD SVG 1.1//EN\"\r\n",
       " \"http://www.w3.org/Graphics/SVG/1.1/DTD/svg11.dtd\">\r\n",
       "<!-- Generated by graphviz version 2.38.0 (20140413.2041)\r\n",
       " -->\r\n",
       "<!-- Title: Tree Pages: 1 -->\r\n",
       "<svg width=\"780pt\" height=\"389pt\"\r\n",
       " viewBox=\"0.00 0.00 780.00 389.00\" xmlns=\"http://www.w3.org/2000/svg\" xmlns:xlink=\"http://www.w3.org/1999/xlink\">\r\n",
       "<g id=\"graph0\" class=\"graph\" transform=\"scale(1 1) rotate(0) translate(4 385)\">\r\n",
       "<title>Tree</title>\r\n",
       "<polygon fill=\"white\" stroke=\"none\" points=\"-4,4 -4,-385 776,-385 776,4 -4,4\"/>\r\n",
       "<!-- 0 -->\r\n",
       "<g id=\"node1\" class=\"node\"><title>0</title>\r\n",
       "<polygon fill=\"none\" stroke=\"black\" points=\"152,-207.5 0,-207.5 0,-124.5 152,-124.5 152,-207.5\"/>\r\n",
       "<text text-anchor=\"middle\" x=\"76\" y=\"-192.3\" font-family=\"Times New Roman,serif\" font-size=\"14.00\">SSLfinal_State &lt;= 0.5</text>\r\n",
       "<text text-anchor=\"middle\" x=\"76\" y=\"-177.3\" font-family=\"Times New Roman,serif\" font-size=\"14.00\">gini = 0.5</text>\r\n",
       "<text text-anchor=\"middle\" x=\"76\" y=\"-162.3\" font-family=\"Times New Roman,serif\" font-size=\"14.00\">samples = 8844</text>\r\n",
       "<text text-anchor=\"middle\" x=\"76\" y=\"-147.3\" font-family=\"Times New Roman,serif\" font-size=\"14.00\">value = [4422.0, 4422.0]</text>\r\n",
       "<text text-anchor=\"middle\" x=\"76\" y=\"-132.3\" font-family=\"Times New Roman,serif\" font-size=\"14.00\">class = legit</text>\r\n",
       "</g>\r\n",
       "<!-- 1 -->\r\n",
       "<g id=\"node2\" class=\"node\"><title>1</title>\r\n",
       "<polygon fill=\"#e58139\" fill-opacity=\"0.901961\" stroke=\"black\" points=\"354,-258.5 188,-258.5 188,-175.5 354,-175.5 354,-258.5\"/>\r\n",
       "<text text-anchor=\"middle\" x=\"271\" y=\"-243.3\" font-family=\"Times New Roman,serif\" font-size=\"14.00\">Prefix_Suffix &lt;= 0.0</text>\r\n",
       "<text text-anchor=\"middle\" x=\"271\" y=\"-228.3\" font-family=\"Times New Roman,serif\" font-size=\"14.00\">gini = 0.164</text>\r\n",
       "<text text-anchor=\"middle\" x=\"271\" y=\"-213.3\" font-family=\"Times New Roman,serif\" font-size=\"14.00\">samples = 3802</text>\r\n",
       "<text text-anchor=\"middle\" x=\"271\" y=\"-198.3\" font-family=\"Times New Roman,serif\" font-size=\"14.00\">value = [3796.055, 377.07]</text>\r\n",
       "<text text-anchor=\"middle\" x=\"271\" y=\"-183.3\" font-family=\"Times New Roman,serif\" font-size=\"14.00\">class = legit</text>\r\n",
       "</g>\r\n",
       "<!-- 0&#45;&gt;1 -->\r\n",
       "<g id=\"edge1\" class=\"edge\"><title>0&#45;&gt;1</title>\r\n",
       "<path fill=\"none\" stroke=\"black\" d=\"M152.171,-185.864C160.631,-188.099 169.32,-190.395 177.961,-192.679\"/>\r\n",
       "<polygon fill=\"black\" stroke=\"black\" points=\"177.12,-196.077 187.683,-195.248 178.909,-189.309 177.12,-196.077\"/>\r\n",
       "<text text-anchor=\"middle\" x=\"166.075\" y=\"-204.123\" font-family=\"Times New Roman,serif\" font-size=\"14.00\">True</text>\r\n",
       "</g>\r\n",
       "<!-- 6 -->\r\n",
       "<g id=\"node7\" class=\"node\"><title>6</title>\r\n",
       "<polygon fill=\"#399de5\" fill-opacity=\"0.847059\" stroke=\"black\" points=\"354,-157.5 188,-157.5 188,-74.5 354,-74.5 354,-157.5\"/>\r\n",
       "<text text-anchor=\"middle\" x=\"271\" y=\"-142.3\" font-family=\"Times New Roman,serif\" font-size=\"14.00\">URL_of_Anchor &lt;= &#45;0.5</text>\r\n",
       "<text text-anchor=\"middle\" x=\"271\" y=\"-127.3\" font-family=\"Times New Roman,serif\" font-size=\"14.00\">gini = 0.232</text>\r\n",
       "<text text-anchor=\"middle\" x=\"271\" y=\"-112.3\" font-family=\"Times New Roman,serif\" font-size=\"14.00\">samples = 5042</text>\r\n",
       "<text text-anchor=\"middle\" x=\"271\" y=\"-97.3\" font-family=\"Times New Roman,serif\" font-size=\"14.00\">value = [625.945, 4044.93]</text>\r\n",
       "<text text-anchor=\"middle\" x=\"271\" y=\"-82.3\" font-family=\"Times New Roman,serif\" font-size=\"14.00\">class = phishy</text>\r\n",
       "</g>\r\n",
       "<!-- 0&#45;&gt;6 -->\r\n",
       "<g id=\"edge6\" class=\"edge\"><title>0&#45;&gt;6</title>\r\n",
       "<path fill=\"none\" stroke=\"black\" d=\"M152.171,-146.526C160.631,-144.334 169.32,-142.083 177.961,-139.844\"/>\r\n",
       "<polygon fill=\"black\" stroke=\"black\" points=\"178.88,-143.222 187.683,-137.326 177.124,-136.446 178.88,-143.222\"/>\r\n",
       "<text text-anchor=\"middle\" x=\"166.137\" y=\"-120.946\" font-family=\"Times New Roman,serif\" font-size=\"14.00\">False</text>\r\n",
       "</g>\r\n",
       "<!-- 2 -->\r\n",
       "<g id=\"node3\" class=\"node\"><title>2</title>\r\n",
       "<polygon fill=\"#e58139\" fill-opacity=\"0.921569\" stroke=\"black\" points=\"563,-345.5 390,-345.5 390,-262.5 563,-262.5 563,-345.5\"/>\r\n",
       "<text text-anchor=\"middle\" x=\"476.5\" y=\"-330.3\" font-family=\"Times New Roman,serif\" font-size=\"14.00\">URL_of_Anchor &lt;= &#45;0.5</text>\r\n",
       "<text text-anchor=\"middle\" x=\"476.5\" y=\"-315.3\" font-family=\"Times New Roman,serif\" font-size=\"14.00\">gini = 0.136</text>\r\n",
       "<text text-anchor=\"middle\" x=\"476.5\" y=\"-300.3\" font-family=\"Times New Roman,serif\" font-size=\"14.00\">samples = 3716</text>\r\n",
       "<text text-anchor=\"middle\" x=\"476.5\" y=\"-285.3\" font-family=\"Times New Roman,serif\" font-size=\"14.00\">value = [3796.055, 299.491]</text>\r\n",
       "<text text-anchor=\"middle\" x=\"476.5\" y=\"-270.3\" font-family=\"Times New Roman,serif\" font-size=\"14.00\">class = legit</text>\r\n",
       "</g>\r\n",
       "<!-- 1&#45;&gt;2 -->\r\n",
       "<g id=\"edge2\" class=\"edge\"><title>1&#45;&gt;2</title>\r\n",
       "<path fill=\"none\" stroke=\"black\" d=\"M354.185,-252.135C362.772,-255.807 371.552,-259.56 380.268,-263.287\"/>\r\n",
       "<polygon fill=\"black\" stroke=\"black\" points=\"379.118,-266.601 389.688,-267.314 381.869,-260.165 379.118,-266.601\"/>\r\n",
       "</g>\r\n",
       "<!-- 5 -->\r\n",
       "<g id=\"node6\" class=\"node\"><title>5</title>\r\n",
       "<polygon fill=\"#399de5\" stroke=\"black\" points=\"542.5,-244 410.5,-244 410.5,-176 542.5,-176 542.5,-244\"/>\r\n",
       "<text text-anchor=\"middle\" x=\"476.5\" y=\"-228.8\" font-family=\"Times New Roman,serif\" font-size=\"14.00\">gini = 0.0</text>\r\n",
       "<text text-anchor=\"middle\" x=\"476.5\" y=\"-213.8\" font-family=\"Times New Roman,serif\" font-size=\"14.00\">samples = 86</text>\r\n",
       "<text text-anchor=\"middle\" x=\"476.5\" y=\"-198.8\" font-family=\"Times New Roman,serif\" font-size=\"14.00\">value = [0.0, 77.579]</text>\r\n",
       "<text text-anchor=\"middle\" x=\"476.5\" y=\"-183.8\" font-family=\"Times New Roman,serif\" font-size=\"14.00\">class = phishy</text>\r\n",
       "</g>\r\n",
       "<!-- 1&#45;&gt;5 -->\r\n",
       "<g id=\"edge5\" class=\"edge\"><title>1&#45;&gt;5</title>\r\n",
       "<path fill=\"none\" stroke=\"black\" d=\"M354.185,-214.173C369.332,-213.652 385.08,-213.11 400.017,-212.596\"/>\r\n",
       "<polygon fill=\"black\" stroke=\"black\" points=\"400.338,-216.088 410.211,-212.246 400.097,-209.092 400.338,-216.088\"/>\r\n",
       "</g>\r\n",
       "<!-- 3 -->\r\n",
       "<g id=\"node4\" class=\"node\"><title>3</title>\r\n",
       "<polygon fill=\"#e58139\" stroke=\"black\" points=\"758.5,-381 612.5,-381 612.5,-313 758.5,-313 758.5,-381\"/>\r\n",
       "<text text-anchor=\"middle\" x=\"685.5\" y=\"-365.8\" font-family=\"Times New Roman,serif\" font-size=\"14.00\">gini = 0.0</text>\r\n",
       "<text text-anchor=\"middle\" x=\"685.5\" y=\"-350.8\" font-family=\"Times New Roman,serif\" font-size=\"14.00\">samples = 2445</text>\r\n",
       "<text text-anchor=\"middle\" x=\"685.5\" y=\"-335.8\" font-family=\"Times New Roman,serif\" font-size=\"14.00\">value = [2742.717, 0.0]</text>\r\n",
       "<text text-anchor=\"middle\" x=\"685.5\" y=\"-320.8\" font-family=\"Times New Roman,serif\" font-size=\"14.00\">class = legit</text>\r\n",
       "</g>\r\n",
       "<!-- 2&#45;&gt;3 -->\r\n",
       "<g id=\"edge3\" class=\"edge\"><title>2&#45;&gt;3</title>\r\n",
       "<path fill=\"none\" stroke=\"black\" d=\"M563.189,-321.8C576.218,-324.507 589.635,-327.294 602.581,-329.983\"/>\r\n",
       "<polygon fill=\"black\" stroke=\"black\" points=\"601.872,-333.41 612.374,-332.017 603.295,-326.557 601.872,-333.41\"/>\r\n",
       "</g>\r\n",
       "<!-- 4 -->\r\n",
       "<g id=\"node5\" class=\"node\"><title>4</title>\r\n",
       "<polygon fill=\"#e58139\" fill-opacity=\"0.713725\" stroke=\"black\" points=\"772,-295 599,-295 599,-227 772,-227 772,-295\"/>\r\n",
       "<text text-anchor=\"middle\" x=\"685.5\" y=\"-279.8\" font-family=\"Times New Roman,serif\" font-size=\"14.00\">gini = 0.345</text>\r\n",
       "<text text-anchor=\"middle\" x=\"685.5\" y=\"-264.8\" font-family=\"Times New Roman,serif\" font-size=\"14.00\">samples = 1271</text>\r\n",
       "<text text-anchor=\"middle\" x=\"685.5\" y=\"-249.8\" font-family=\"Times New Roman,serif\" font-size=\"14.00\">value = [1053.338, 299.491]</text>\r\n",
       "<text text-anchor=\"middle\" x=\"685.5\" y=\"-234.8\" font-family=\"Times New Roman,serif\" font-size=\"14.00\">class = legit</text>\r\n",
       "</g>\r\n",
       "<!-- 2&#45;&gt;4 -->\r\n",
       "<g id=\"edge4\" class=\"edge\"><title>2&#45;&gt;4</title>\r\n",
       "<path fill=\"none\" stroke=\"black\" d=\"M563.189,-286.2C571.663,-284.44 580.301,-282.645 588.867,-280.866\"/>\r\n",
       "<polygon fill=\"black\" stroke=\"black\" points=\"589.796,-284.248 598.875,-278.787 588.372,-277.394 589.796,-284.248\"/>\r\n",
       "</g>\r\n",
       "<!-- 7 -->\r\n",
       "<g id=\"node8\" class=\"node\"><title>7</title>\r\n",
       "<polygon fill=\"#e58139\" fill-opacity=\"0.870588\" stroke=\"black\" points=\"556,-154 397,-154 397,-86 556,-86 556,-154\"/>\r\n",
       "<text text-anchor=\"middle\" x=\"476.5\" y=\"-138.8\" font-family=\"Times New Roman,serif\" font-size=\"14.00\">gini = 0.205</text>\r\n",
       "<text text-anchor=\"middle\" x=\"476.5\" y=\"-123.8\" font-family=\"Times New Roman,serif\" font-size=\"14.00\">samples = 214</text>\r\n",
       "<text text-anchor=\"middle\" x=\"476.5\" y=\"-108.8\" font-family=\"Times New Roman,serif\" font-size=\"14.00\">value = [206.405, 27.062]</text>\r\n",
       "<text text-anchor=\"middle\" x=\"476.5\" y=\"-93.8\" font-family=\"Times New Roman,serif\" font-size=\"14.00\">class = legit</text>\r\n",
       "</g>\r\n",
       "<!-- 6&#45;&gt;7 -->\r\n",
       "<g id=\"edge7\" class=\"edge\"><title>6&#45;&gt;7</title>\r\n",
       "<path fill=\"none\" stroke=\"black\" d=\"M354.185,-117.615C364.885,-117.826 375.885,-118.042 386.687,-118.254\"/>\r\n",
       "<polygon fill=\"black\" stroke=\"black\" points=\"386.9,-121.759 396.967,-118.456 387.038,-114.76 386.9,-121.759\"/>\r\n",
       "</g>\r\n",
       "<!-- 8 -->\r\n",
       "<g id=\"node9\" class=\"node\"><title>8</title>\r\n",
       "<polygon fill=\"#399de5\" fill-opacity=\"0.894118\" stroke=\"black\" points=\"559.5,-68 393.5,-68 393.5,-0 559.5,-0 559.5,-68\"/>\r\n",
       "<text text-anchor=\"middle\" x=\"476.5\" y=\"-52.8\" font-family=\"Times New Roman,serif\" font-size=\"14.00\">gini = 0.171</text>\r\n",
       "<text text-anchor=\"middle\" x=\"476.5\" y=\"-37.8\" font-family=\"Times New Roman,serif\" font-size=\"14.00\">samples = 4828</text>\r\n",
       "<text text-anchor=\"middle\" x=\"476.5\" y=\"-22.8\" font-family=\"Times New Roman,serif\" font-size=\"14.00\">value = [419.54, 4017.868]</text>\r\n",
       "<text text-anchor=\"middle\" x=\"476.5\" y=\"-7.8\" font-family=\"Times New Roman,serif\" font-size=\"14.00\">class = phishy</text>\r\n",
       "</g>\r\n",
       "<!-- 6&#45;&gt;8 -->\r\n",
       "<g id=\"edge8\" class=\"edge\"><title>6&#45;&gt;8</title>\r\n",
       "<path fill=\"none\" stroke=\"black\" d=\"M354.185,-82.8838C363.965,-78.9428 373.996,-74.9007 383.898,-70.9108\"/>\r\n",
       "<polygon fill=\"black\" stroke=\"black\" points=\"385.372,-74.0904 393.339,-67.1065 382.756,-67.5977 385.372,-74.0904\"/>\r\n",
       "</g>\r\n",
       "</g>\r\n",
       "</svg>\r\n"
      ],
      "text/plain": [
       "<graphviz.files.Source at 0x2773a255da0>"
      ]
     },
     "execution_count": 8,
     "metadata": {},
     "output_type": "execute_result"
    }
   ],
   "source": [
    "status = [\"legit\", \"phishy\"]\n",
    "graafi = tree.export_graphviz(classifier, out_file=None, feature_names=column_names, class_names=status, label=\"all\", rotate=True, proportion=False, filled=True)\n",
    "graph = graphviz.Source(graafi)\n",
    "graph"
   ]
  },
  {
   "cell_type": "markdown",
   "metadata": {},
   "source": [
    "---\n",
    "## Instructions\n",
    "Adhering to the following steps will help you avoid roughly 90% of phishing sites. However, note that while providing a solid framework for phishing detection, case by case evaluation is always required. Use it as a rule of thumb rather than a strict and comprehensive guide.<br><br>\n",
    "\n",
    "If the SSL certificate of the website is over 1 year old and trusted, and less than 31% of its anchor-tags connect to other domains, the website is most probably free of phishing. However, if the anchors direct to other domains more than 31% of the time and the domain name is hyphenated, caution is advised. Unhyphenated cases tend to be safer.<br><br>\n",
    "\n",
    "If the SSL certificate is not trusted and over a year old, once again proceed to checking the anchors of the web site. Sites that direct to other domains infrequently (once again under 31%) are far less likely to to be phishing sites than those with more frequent uses of off-site directions in anchors.\n",
    "\n",
    "- SSL certificate trusted and over 1 year old\n",
    "\t- YES:Under 31% of anchor-tags are directed to other sites\n",
    "\t\t- YES: probably safe site\n",
    "\t\t- NO: URL contains hyphen\n",
    "\t\t\t\t- YES: probably phishing\n",
    "\t\t\t\t- NO: probably safe\n",
    "\t- NO: Under 31% of anchor-tags are directed to other sites\n",
    "\t\t-YES: probably safe site\n",
    "\t\t- NO: probably phishing site"
   ]
  }
 ],
 "metadata": {
  "kernelspec": {
   "display_name": "Python 3",
   "language": "python",
   "name": "python3"
  },
  "language_info": {
   "codemirror_mode": {
    "name": "ipython",
    "version": 3
   },
   "file_extension": ".py",
   "mimetype": "text/x-python",
   "name": "python",
   "nbconvert_exporter": "python",
   "pygments_lexer": "ipython3",
   "version": "3.5.5"
  }
 },
 "nbformat": 4,
 "nbformat_minor": 2
}
